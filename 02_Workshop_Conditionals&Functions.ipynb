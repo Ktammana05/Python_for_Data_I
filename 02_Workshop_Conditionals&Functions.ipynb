{
 "cells": [
  {
   "cell_type": "markdown",
   "metadata": {
    "slideshow": {
     "slide_type": "slide"
    }
   },
   "source": [
    "# Agenda\n",
    "* Conditionals\n",
    "* Functions\n",
    "* Math Functions\n",
    "* String Functions\n"
   ]
  },
  {
   "cell_type": "markdown",
   "metadata": {},
   "source": [
    "### CONDITIONALS\n",
    "* If then else\n"
   ]
  },
  {
   "cell_type": "code",
   "execution_count": null,
   "metadata": {
    "collapsed": true
   },
   "outputs": [],
   "source": [
    "people = 100\n",
    "pineapple = 60\n",
    "antip =40\n",
    "paying = \"Terry\""
   ]
  },
  {
   "cell_type": "code",
   "execution_count": null,
   "metadata": {
    "collapsed": false
   },
   "outputs": [],
   "source": [
    "if (pineapple%people) *100 > 50: print \"pinapple does belong on pizza\"\n",
    "else: print \"pineapple does not belong on pizza\""
   ]
  },
  {
   "cell_type": "code",
   "execution_count": null,
   "metadata": {
    "collapsed": false
   },
   "outputs": [],
   "source": [
    "(pineapple%people)"
   ]
  },
  {
   "cell_type": "code",
   "execution_count": null,
   "metadata": {
    "collapsed": false
   },
   "outputs": [],
   "source": [
    "if (pineapple%people) *100 > 50 and paying <> \"Terry\": print \"pinapple does belong on pizza\"\n",
    "else: print \"pineapple does not belong on pizza\""
   ]
  },
  {
   "cell_type": "markdown",
   "metadata": {},
   "source": [
    "#### Exercise \n",
    "* Create a function to evaluate IMU and suggest an action\n",
    "\n",
    "Here is a list of products and how much they cost the store to buy\n",
    "- Jean_cost = 25\n",
    "- Shirt_cost = 15\n",
    "- Shoe_cost = 10\n",
    "\n",
    "Here is a list of what they are being sold for\n",
    "- Jean_cost = 60\n",
    "- Shirt_cost = 20\n",
    "- Shoe_cost = 11\n",
    "\n",
    "We want to keep our margins begween 2% and 14% Create a function that evaluates the cost and the sell price\n",
    "- If it is over 14% bring back directions to markdown\n",
    "- If it is under 2% bring back directions to markup\n",
    "- If it is in range bring back directions to keep same\n"
   ]
  },
  {
   "cell_type": "code",
   "execution_count": null,
   "metadata": {
    "collapsed": true
   },
   "outputs": [],
   "source": [
    "#IMU evaluation and suggestions.\n"
   ]
  },
  {
   "cell_type": "markdown",
   "metadata": {},
   "source": [
    "## FUNCTIONS\n",
    "\n",
    "* Functions are a way to write programs within programs\n",
    "* With many functions you can pass variables into them through arguements. \n",
    "* Let's first view a function with no arguements"
   ]
  },
  {
   "cell_type": "code",
   "execution_count": null,
   "metadata": {
    "collapsed": false
   },
   "outputs": [],
   "source": [
    "# We will define 3 functions:\n",
    "# print_none, print_one, print_two\n",
    "\n",
    "def print_none():\n",
    "    print \"Even though this has no arguements it is still important\"\n",
    "\n",
    "#This function will take 1 arguement\n",
    "def print_one(arg1):\n",
    "    print \"arg1: %r\" % arg1\n",
    "\n",
    "# This function will take 2 arguements\n",
    "def print_two(arg1, arg2):\n",
    "    print \"arg1: %r, arg2: %r\" % (arg1, arg2)\n",
    "\n",
    "print_none()\n",
    "    \n",
    "print_one(\"this is an arguement\") \n",
    "'''Notice I'm calling print_one function\n",
    "I'm then passing text as an arguement'''\n",
    "\n",
    "print_two(\"This is arguement1\", \"This is arguement2\")\n",
    "'''I'm now calling print_two and calling 2 arguements)'''"
   ]
  },
  {
   "cell_type": "markdown",
   "metadata": {},
   "source": [
    "### EXERCISE\n",
    "Build a function that prints off and gives examples of the things things you have learned so far."
   ]
  },
  {
   "cell_type": "code",
   "execution_count": null,
   "metadata": {
    "collapsed": true
   },
   "outputs": [],
   "source": []
  },
  {
   "cell_type": "markdown",
   "metadata": {},
   "source": [
    "### Math Functions"
   ]
  },
  {
   "cell_type": "code",
   "execution_count": null,
   "metadata": {
    "collapsed": false
   },
   "outputs": [],
   "source": [
    "def add(a, b):\n",
    "    a=10\n",
    "    b=5\n",
    "    return a + b\n",
    "add(a,b)"
   ]
  },
  {
   "cell_type": "code",
   "execution_count": null,
   "metadata": {
    "collapsed": false
   },
   "outputs": [],
   "source": [
    "def subtract(a, b):\n",
    "    a=10\n",
    "    b=5\n",
    "    return a - b\n",
    "subtract(a,b)"
   ]
  },
  {
   "cell_type": "code",
   "execution_count": null,
   "metadata": {
    "collapsed": false
   },
   "outputs": [],
   "source": [
    "def divide(a, b):\n",
    "    a=10\n",
    "    b=5\n",
    "    return a/b\n",
    "divide(a,b)"
   ]
  },
  {
   "cell_type": "markdown",
   "metadata": {},
   "source": [
    "#### EXERCISE: \n",
    "* Write a function that takes two parameters (hours and rate), and returns the total pay."
   ]
  },
  {
   "cell_type": "code",
   "execution_count": null,
   "metadata": {
    "collapsed": true
   },
   "outputs": [],
   "source": [
    "# Total pay"
   ]
  },
  {
   "cell_type": "markdown",
   "metadata": {},
   "source": [
    "### STRINGS\n",
    "If you have ever done any amount of working with SQL or EXCEL you will be familiar \n",
    "with the need to review and manipulate strings. If you have not these basic concepts\n",
    "may come in handy in the future. "
   ]
  },
  {
   "cell_type": "code",
   "execution_count": null,
   "metadata": {
    "collapsed": false
   },
   "outputs": [],
   "source": [
    "# creating\n",
    "a = 'hello'     # can use single or double quotes\n",
    "\n",
    "# slicing\n",
    "a[0]        # returns 'h' (works like list slicing)"
   ]
  },
  {
   "cell_type": "code",
   "execution_count": null,
   "metadata": {
    "collapsed": false
   },
   "outputs": [],
   "source": [
    "# slicing\n",
    "a[1:3]      # returns 'el'"
   ]
  },
  {
   "cell_type": "code",
   "execution_count": null,
   "metadata": {
    "collapsed": false
   },
   "outputs": [],
   "source": [
    "# slicing\n",
    "a[-1]       # returns 'o'"
   ]
  },
  {
   "cell_type": "code",
   "execution_count": null,
   "metadata": {
    "collapsed": false
   },
   "outputs": [],
   "source": [
    "# concatenating concats are the same as Excel or SQL you can concat blanks or multiple columns\n",
    "a + ' there'        # use plus sign to combine strings"
   ]
  },
  {
   "cell_type": "code",
   "execution_count": null,
   "metadata": {
    "collapsed": false
   },
   "outputs": [],
   "source": [
    "# concatenating ()\n",
    "str(5) + ' there'   # cast 5 to a string in order for this to work"
   ]
  },
  {
   "cell_type": "code",
   "execution_count": null,
   "metadata": {
    "collapsed": false
   },
   "outputs": [],
   "source": [
    "# uppercasing\n",
    "a.upper()       # string method (this method doesn't exist for lists)"
   ]
  },
  {
   "cell_type": "code",
   "execution_count": null,
   "metadata": {
    "collapsed": false
   },
   "outputs": [],
   "source": [
    "# upper casing \n",
    "a[0].upper()+a[1:] #Uppercase of first letter in word"
   ]
  },
  {
   "cell_type": "code",
   "execution_count": null,
   "metadata": {
    "collapsed": false
   },
   "outputs": [],
   "source": [
    "# checking length\n",
    "len(a)      # returns 5 (number of characters)"
   ]
  },
  {
   "cell_type": "markdown",
   "metadata": {},
   "source": [
    "#### EXERCISE \n",
    "- Write your first name in all lowercase into Variable 'first' and your last name into variable 'last'\n",
    "- Combine your name together with upper case for first letter of your first name and upper case for first letter of your last name ie Terry Smith"
   ]
  },
  {
   "cell_type": "code",
   "execution_count": null,
   "metadata": {
    "collapsed": false
   },
   "outputs": [],
   "source": [
    "f = 'matthew'\n",
    "l = 'morris'\n",
    "f[0].upper()+f[1:]+' '+l[0].upper()+l[1:]"
   ]
  }
 ],
 "metadata": {
  "anaconda-cloud": {},
  "kernelspec": {
   "display_name": "Python [default]",
   "language": "python",
   "name": "python2"
  },
  "language_info": {
   "codemirror_mode": {
    "name": "ipython",
    "version": 2
   },
   "file_extension": ".py",
   "mimetype": "text/x-python",
   "name": "python",
   "nbconvert_exporter": "python",
   "pygments_lexer": "ipython2",
   "version": "2.7.12"
  }
 },
 "nbformat": 4,
 "nbformat_minor": 0
}
