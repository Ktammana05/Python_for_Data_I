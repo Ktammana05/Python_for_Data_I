{
 "cells": [
  {
   "cell_type": "markdown",
   "metadata": {},
   "source": [
    "## LISTS, SETS, TUPLES, DICTIONARIES\n",
    "These are all ways to store data OR data structures. \n",
    "\n",
    "#### SIMPLE CONCEPT\n",
    "\n",
    "* Lists are like grocery lists\n",
    "* Tuples are like a grocery list for a recipe, it cannot be changed\n",
    "* Dictionary is like a grocery list with prices next to each item\n",
    "\n",
    "SYMBOLS to memorize\n",
    "## LIST [ ] \n",
    "- a list of values. Each one of them is numbered, starting from zero - the first one is numbered zero, the second 1, the third 2, etc. You can remove values from the list, and add new values to the end. Example: Your many cats' names.\n",
    "\n",
    "## TUPLE ( )\n",
    "-  Just like lists, but you can't change their values. The values that you give it first up, are the values that you are stuck with for the rest of the program. Again, each value is numbered starting from zero, for easy reference. Example: the names of the months of the year.\n",
    "\n",
    "## DICTIONARY { }\n",
    "- In a dictionary, you have an 'index' of words, and for each of them a definition. In python, the word is called a 'key', and the definition a 'value'. The values in a dictionary aren't numbered - tare similar to what their name suggests - a dictionary. In a dictionary, you have an 'index' of words, and for each of them a definition. In python, the word is called a 'key', and the definition a 'value'. The values in a dictionary aren't numbered - they aren't in any specific order, either - the key does the same thing. You can add, remove, and modify the values in dictionaries. Example: telephone book.\n",
    "spend some time committing the above symbols and concepts to memory\n",
    "\n",
    "#### Exercise create your own examples of LISTS, TUPLES and DICTIONARIES\n"
   ]
  },
  {
   "cell_type": "code",
   "execution_count": null,
   "metadata": {
    "collapsed": true
   },
   "outputs": [],
   "source": [
    "### LIST [ ]\n",
    "Let's take a closer look at lists first\n",
    "List can contain integers, characters or a mix of both\n",
    "\n",
    "list1 = [1,2,3,4,5,6]\n",
    "\n",
    "list2 = [soy, bread, eggs]\n",
    "\n",
    "list3 = [1,5.2,bread]\n",
    "\n",
    "* Lists can contain lists\n",
    "\n",
    "list4 = [soy, bread, eggs,[corn, kale, carrots]]\n",
    "\n",
    "* List of things you can do with lists\n",
    "\n",
    "Delete, Append, Extend, Insert, Populate, Remove, Reverse, Sort, Add lists together. \n",
    "\n",
    "For now we will focus on creating lists and :\n",
    "\n",
    "* adding lists together\n",
    "* append values\n",
    "* replace a list element\n",
    "* remove list elements\n",
    "* explorting data\n",
    "* sorting data\n",
    "* slicing data\n",
    "\n",
    "### creating\n",
    "a = [1, 2, 3, 4, 5]     # create lists using brackets\n",
    "\n",
    "### slicing\n",
    "a[0]        # returns 1 (Python is zero indexed)\n",
    "a[1:3]      # returns [2, 3] (inclusive of first index but exclusive of second)\n",
    "a[-1]       # returns 5 (last element)\n",
    "\n",
    "### appending\n",
    "a[5] = 6        # error because you can't assign outside the existing range\n",
    "a.append(6)     # list method that appends 6 to the end\n",
    "a = a + [0]     # use plus sign to combine lists\n",
    "\n",
    "### checking length\n",
    "len(a)      # returns 7\n",
    "\n",
    "### checking type\n",
    "type(a)     # returns list\n",
    "type(a[0])  # returns int\n",
    "\n",
    "### sorting\n",
    "sorted(a)               # sorts the list\n",
    "sorted(a, reverse=True) # reverse=True is an 'optional argument'\n",
    "sorted(a, True)         # error because optional arguments must be named"
   ]
  },
  {
   "cell_type": "code",
   "execution_count": null,
   "metadata": {
    "collapsed": true
   },
   "outputs": [],
   "source": [
    "Create a list of your favorite bands or movies or foods then use the above\n",
    "* adding lists together\n",
    "* append values\n",
    "* replace a list element\n",
    "* remove list elements\n",
    "* explorting data\n",
    "* sorting data"
   ]
  },
  {
   "cell_type": "markdown",
   "metadata": {},
   "source": []
  },
  {
   "cell_type": "markdown",
   "metadata": {},
   "source": [
    "##### EXERCISE:\n",
    "Create your list of favorite foods put a '_' for spaces, i.e. phad_thai"
   ]
  },
  {
   "cell_type": "code",
   "execution_count": null,
   "metadata": {
    "collapsed": true
   },
   "outputs": [],
   "source": []
  },
  {
   "cell_type": "markdown",
   "metadata": {},
   "source": [
    "#### EXERCISE:\n",
    "1. Create a list of the first names of your family members.\n",
    "2. Print the name of the last person in the list.\n",
    "3. Change the name of the new person to lowercase using the string method 'lower'.\n",
    "4. Sort the list in reverse alphabetical order.\n",
    "Bonus: Sort the list by the length of the names (shortest to longest)."
   ]
  },
  {
   "cell_type": "code",
   "execution_count": null,
   "metadata": {
    "collapsed": true
   },
   "outputs": [],
   "source": [
    "# Create a list of the first names of your family members"
   ]
  },
  {
   "cell_type": "code",
   "execution_count": null,
   "metadata": {
    "collapsed": true
   },
   "outputs": [],
   "source": [
    "# Print the name of the last person in the list"
   ]
  },
  {
   "cell_type": "code",
   "execution_count": null,
   "metadata": {
    "collapsed": true
   },
   "outputs": [],
   "source": [
    "# Change the name of the new person to lowercase using the string method 'lower'"
   ]
  },
  {
   "cell_type": "code",
   "execution_count": null,
   "metadata": {
    "collapsed": true
   },
   "outputs": [],
   "source": [
    "# Sort the list in reverse alphabetical order."
   ]
  },
  {
   "cell_type": "code",
   "execution_count": null,
   "metadata": {
    "collapsed": true
   },
   "outputs": [],
   "source": [
    "# Sort the list by the length of the names (shortest to the longest)"
   ]
  },
  {
   "cell_type": "markdown",
   "metadata": {},
   "source": [
    "### TUPLE ( )"
   ]
  },
  {
   "cell_type": "code",
   "execution_count": null,
   "metadata": {
    "collapsed": true
   },
   "outputs": [],
   "source": []
  },
  {
   "cell_type": "markdown",
   "metadata": {},
   "source": [
    "### DICTIONARY {}"
   ]
  },
  {
   "cell_type": "code",
   "execution_count": null,
   "metadata": {
    "collapsed": false
   },
   "outputs": [],
   "source": [
    "family = {'dad':'Dr.Venture', 'mom':'Unknown', 'size':2}\n",
    "\n",
    "# check the length\n",
    "len(family) # returns 3 (number of key-value pairs)"
   ]
  },
  {
   "cell_type": "code",
   "execution_count": null,
   "metadata": {
    "collapsed": false
   },
   "outputs": [],
   "source": [
    "# use the key to look up a value (fast operation regardless of dictionary size)\n",
    "family['dad'] # returns 'Dr.Venture'"
   ]
  },
  {
   "cell_type": "code",
   "execution_count": null,
   "metadata": {
    "collapsed": false
   },
   "outputs": [],
   "source": [
    "# add a new entry\n",
    "family['pet'] = 'scamp'"
   ]
  },
  {
   "cell_type": "code",
   "execution_count": null,
   "metadata": {
    "collapsed": false
   },
   "outputs": [],
   "source": [
    "# keys must be unique, so this edits an existing entry\n",
    "family['pet'] = 'scamp ii'\n",
    "family['pet']"
   ]
  },
  {
   "cell_type": "code",
   "execution_count": null,
   "metadata": {
    "collapsed": true
   },
   "outputs": [],
   "source": [
    "# delete an entry\n",
    "del family['pet']"
   ]
  },
  {
   "cell_type": "code",
   "execution_count": null,
   "metadata": {
    "collapsed": false
   },
   "outputs": [],
   "source": [
    "# keys can be strings or numbers or tuples, values can be any type\n",
    "family['kids'] = ['hank', 'dean'] # value can be a list\n",
    "family"
   ]
  },
  {
   "cell_type": "code",
   "execution_count": null,
   "metadata": {
    "collapsed": true
   },
   "outputs": [],
   "source": [
    "# useful methods\n",
    "family.keys() # returns list: ['dad', 'kids', 'mom', 'size']\n",
    "family.values() # returns list: ['Dr.Venture', ['hank', 'dean'], 'unknown', 2]\n",
    "family.items() # returns list of tuples:\n",
    "# [('dad', 'Dr.Venture'), ('kids', ['hank', 'dean']), ('mom', 'unknown'), ('size', 2)]"
   ]
  },
  {
   "cell_type": "code",
   "execution_count": null,
   "metadata": {
    "collapsed": true
   },
   "outputs": [],
   "source": [
    "#1. Print the name of the mom."
   ]
  },
  {
   "cell_type": "code",
   "execution_count": null,
   "metadata": {
    "collapsed": true
   },
   "outputs": [],
   "source": []
  },
  {
   "cell_type": "code",
   "execution_count": null,
   "metadata": {
    "collapsed": true
   },
   "outputs": [],
   "source": [
    "#2. Change the size to 5."
   ]
  },
  {
   "cell_type": "code",
   "execution_count": null,
   "metadata": {
    "collapsed": true
   },
   "outputs": [],
   "source": []
  },
  {
   "cell_type": "code",
   "execution_count": null,
   "metadata": {
    "collapsed": true
   },
   "outputs": [],
   "source": [
    "#3. Add 'Hank2' to the list of kids. Note-In this tv series the kids are clones"
   ]
  },
  {
   "cell_type": "code",
   "execution_count": null,
   "metadata": {
    "collapsed": true
   },
   "outputs": [],
   "source": []
  },
  {
   "cell_type": "code",
   "execution_count": null,
   "metadata": {
    "collapsed": true
   },
   "outputs": [],
   "source": [
    "#4. Fix 'hank' and 'dean' so that the first letter is capitalized."
   ]
  },
  {
   "cell_type": "code",
   "execution_count": null,
   "metadata": {
    "collapsed": true
   },
   "outputs": [],
   "source": []
  },
  {
   "cell_type": "code",
   "execution_count": null,
   "metadata": {
    "collapsed": true
   },
   "outputs": [],
   "source": [
    "#5 Add to the family dictionary bodygaurd 'Brock'"
   ]
  },
  {
   "cell_type": "code",
   "execution_count": null,
   "metadata": {
    "collapsed": true
   },
   "outputs": [],
   "source": []
  }
 ],
 "metadata": {
  "anaconda-cloud": {},
  "kernelspec": {
   "display_name": "Python [default]",
   "language": "python",
   "name": "python2"
  },
  "language_info": {
   "codemirror_mode": {
    "name": "ipython",
    "version": 2
   },
   "file_extension": ".py",
   "mimetype": "text/x-python",
   "name": "python",
   "nbconvert_exporter": "python",
   "pygments_lexer": "ipython2",
   "version": "2.7.12"
  }
 },
 "nbformat": 4,
 "nbformat_minor": 0
}
