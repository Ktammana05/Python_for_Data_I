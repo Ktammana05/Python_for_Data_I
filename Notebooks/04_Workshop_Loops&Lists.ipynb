{
 "cells": [
  {
   "cell_type": "markdown",
   "metadata": {},
   "source": [
    "#### You can create a list of numbers using range\n",
    "list(range(4))\n",
    "\n",
    "list(range(10))"
   ]
  },
  {
   "cell_type": "code",
   "execution_count": null,
   "metadata": {
    "collapsed": true
   },
   "outputs": [],
   "source": [
    "#Create a range  of 100\n"
   ]
  },
  {
   "cell_type": "markdown",
   "metadata": {},
   "source": [
    "### Loops and Lists\n",
    "* For and While loop\n",
    "* Coin toss example\n",
    "* For loop\n",
    "* While loop\n",
    "Creating list of products\n",
    "\n",
    "#### For and While loop\n",
    "Loops are a way to reduce code and automate tasks that you would repeat over and over. \n",
    "\n",
    "A loop is a sequence of instructions that are continually repeated until\t\t\t\n",
    "a certain condition is reached.\t\t\t\n",
    "\t\t\t\n",
    "* For loop examples \t\t\t\n",
    "An item of data is retrieved or changed\t\t\t\n",
    "Then a condition is checked to see if all criteria has been met\t\t\t\n",
    "if not the process is repeated. \t\t\t\n",
    "\t\t\t\n",
    "We do this all the time in life\t\t\t\n",
    "\t\t\t\n",
    "Shampoo directions\t\t\t\n",
    "Rinse\t\t\t\n",
    "Wash\t\t\t\n",
    "Rinse\t\t\t\n",
    "Repeat until clean\t\t\t\n",
    "\t\t\t\n",
    "There are 2 types of loops in python the FOR loop and the WHILE loop\t\t\t\n",
    "For loops and While loops both allow us to perform an action over and over and over\tand over and over.\t\t\n",
    "\t\t\t\n",
    "for loops will iterate through list and perform its action once for each of those items\t\t\t\n",
    "\tlists and strings have a finite length \t\t\n",
    "\tSo we know how many times a for loop will run based on the length of the list\t\t\n",
    "A while loop however will continue running and will check conditions to determine whether it should run the loop 1 more time. \t\t\t\n",
    "\t\t\t\n",
    "Work and 8 hour day For loop\n",
    "\t\t\n",
    "So you will work 8 hours and for every 1 hour you work you will look ask have I worked 8 hours yet? \n",
    "\t\t\t\n"
   ]
  },
  {
   "cell_type": "code",
   "execution_count": null,
   "metadata": {
    "collapsed": false
   },
   "outputs": [],
   "source": [
    "for count in range(1,9):\n",
    "    print \"Start of hour\"\n",
    "    print \"End of hour\"\n",
    "    print str(count) +\" hours\"\n",
    "print \"Go home you have worked a full 8 hour day.\""
   ]
  },
  {
   "cell_type": "code",
   "execution_count": null,
   "metadata": {
    "collapsed": true
   },
   "outputs": [],
   "source": [
    "from random import randint\n",
    "num = 100\n",
    "flips = [randint(0,1) for r in range(num)]\n",
    "results = []\n",
    "for object in flips:\n",
    "        if object == 0:\n",
    "            results.append('Heads')\n",
    "        elif object == 1:\n",
    "            results.append('Tails')\n",
    "print results"
   ]
  },
  {
   "cell_type": "markdown",
   "metadata": {},
   "source": [
    "#### BONUS Excercise - come back to this code and update it to count the number of flips. Do some math to bring back results that show the % of times heads and the % of times tails."
   ]
  },
  {
   "cell_type": "code",
   "execution_count": null,
   "metadata": {
    "collapsed": true
   },
   "outputs": [],
   "source": []
  },
  {
   "cell_type": "markdown",
   "metadata": {},
   "source": [
    "Work until boss leaves!\t\t\t\n",
    "This is a while loop\t\t\t\n",
    "You are not sure when your boss leaves so you complete a task and then look over at thier desk to see if they are gone. Once they are gone your weekend starts!!!!"
   ]
  },
  {
   "cell_type": "code",
   "execution_count": null,
   "metadata": {
    "collapsed": true
   },
   "outputs": [],
   "source": []
  },
  {
   "cell_type": "code",
   "execution_count": null,
   "metadata": {
    "collapsed": false
   },
   "outputs": [],
   "source": [
    "import random\n",
    "#variables\n",
    "boss_is_still_working_on_your_review = True\n",
    "count = 0\n",
    "#stay at work as long as your boss is working on your review\n",
    "while boss_is_still_working_on_your_review:\t\n",
    "    print \"Heads down and complete a task!\"\t\n",
    "    print \"When task is finished see if they are gone!\"\t\n",
    "    count +=1\n",
    "    print str(count) +\" task(s) complete, good job!\"\n",
    "    print\n",
    "    \n",
    "    #Boss will randomly leave\n",
    "    if random.randrange(0,10) ==0:\n",
    "        boss_is_still_working_on_your_review = False\n",
    "        print \"Go home you hard worker, boss is gone\""
   ]
  },
  {
   "cell_type": "code",
   "execution_count": null,
   "metadata": {
    "collapsed": false
   },
   "outputs": [],
   "source": [
    "n=(range(6))\n",
    "for count in n: \n",
    "    print(count) \n",
    "    print('Yes' * count)"
   ]
  },
  {
   "cell_type": "code",
   "execution_count": null,
   "metadata": {
    "collapsed": false
   },
   "outputs": [],
   "source": [
    "for count in [1, 2, 3]:\n",
    "    print(count)\n",
    "    print('Yes' * count)\n",
    "print('Done counting.')\n",
    "for color in ['red', 'blue', 'green']:\n",
    "    print(color)"
   ]
  },
  {
   "cell_type": "markdown",
   "metadata": {},
   "source": [
    "#### summary loops and lists\n",
    "There are for loops and that is what you want to use 9 times out of 10 because they have an end. \n",
    "While loops can go on into oblivion. \n",
    "\n",
    "You use loops when you have a repeatable process and you want to \n",
    "reduce code. If youre not sure when you would use a loop just code away and when you hit something where you think, \n",
    "\"I wish there was a way to reduce this code and only code it once...probably going to be a loop.\"\n",
    "For more information on loops checkout the documentation:\n",
    "http://anh.cs.luc.edu/python/hands-on/3.1/handsonHtml/loops.html"
   ]
  }
 ],
 "metadata": {
  "anaconda-cloud": {},
  "kernelspec": {
   "display_name": "Python [default]",
   "language": "python",
   "name": "python2"
  },
  "language_info": {
   "codemirror_mode": {
    "name": "ipython",
    "version": 2
   },
   "file_extension": ".py",
   "mimetype": "text/x-python",
   "name": "python",
   "nbconvert_exporter": "python",
   "pygments_lexer": "ipython2",
   "version": "2.7.12"
  }
 },
 "nbformat": 4,
 "nbformat_minor": 0
}
