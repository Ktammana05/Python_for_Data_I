{
 "cells": [
  {
   "cell_type": "markdown",
   "metadata": {
    "slideshow": {
     "slide_type": "slide"
    }
   },
   "source": [
    "# Python for Data Intro - Fundamental Syntax\n",
    "\n",
    "## Agenda\n",
    "* Python for Data Intro workshops overview\n",
    "* Setting up your environment \n",
    "* A step beyond print \"Hello World\"\n",
    "* Commenting\n",
    "* Basic Math\n",
    "* Variables and Math\n",
    "* Build a Calculator"
   ]
  },
  {
   "cell_type": "markdown",
   "metadata": {
    "slideshow": {
     "slide_type": "subslide"
    }
   },
   "source": [
    "# Python for Data Intro Workshop\n",
    "The intent of this workshop is to compliment online tutorials, give you a chance to practice and apply what you have learned with some fun and or real world examples. \n",
    "\n",
    "Data Analytics and Data Science workflows are almost exact, save when you get to the analytics portion. \n",
    "\n",
    "* Identify the problem\n",
    "* Obtain the Data\n",
    "* Understand the Data\n",
    "* Prepare the Data\n",
    "* Analyze the Data\n",
    "* Present the data\n",
    "\n",
    "You can do almost all of these steps in tools like Excel, Tableau or SAS at varying levels of ability. You can also do many of these steps with languages like SQL, Python or R. \n",
    "The focus of these workshops it to take you through:\n",
    "Obtaining Data,Understanding Data and Preparing data. \n",
    "The flow of the workshops does not go in that order though. The flow is:\n",
    "* Learning basic syntax\n",
    "* Working with Conditionals\n",
    "* String Functions, Math Functions\n",
    "* Data Structures\n",
    "* Connecting to Databases\n",
    "* Running SQL\n",
    "* Pandas and Matplotlib\n",
    "\n",
    "These tools you will learn you will be able to apply in different ways when approaching a Data Analytics project.\n",
    "\n",
    "All of this builds up to analysis which is not covered in these workshops. Those will be covered with Basic to Advanced Statistics and Python for Data Science (scikit learn)"
   ]
  },
  {
   "cell_type": "markdown",
   "metadata": {
    "slideshow": {
     "slide_type": "slide"
    }
   },
   "source": [
    "## Setting up your Environment:\n",
    "\n",
    "- Anaconda Python 2.7 \n",
    "- Spyder\n",
    "- Jupyter Notebooks\n",
    "- GitHub\n",
    "- Datasets"
   ]
  },
  {
   "cell_type": "markdown",
   "metadata": {
    "slideshow": {
     "slide_type": "slide"
    }
   },
   "source": [
    "# Python Overview\n",
    "\n",
    "* Printing, Formatting, Prompts, Calculators, Creating and storing data\n",
    "* Reading files, writing to files, creating decision logic, loops, lists, functions, \n",
    "* Classes, Modules, Numpy, Pandas, Machine learning, Web scrapping, R, SPSS Modeler, SAS,\n"
   ]
  },
  {
   "cell_type": "markdown",
   "metadata": {
    "slideshow": {
     "slide_type": "subslide"
    }
   },
   "source": [
    "## Let's start a step beyond \"Hello World\"\n",
    "Functions basically are a set of instructions that you can call by calling the name of the function. "
   ]
  },
  {
   "cell_type": "code",
   "execution_count": null,
   "metadata": {
    "collapsed": false,
    "slideshow": {
     "slide_type": "subslide"
    }
   },
   "outputs": [],
   "source": [
    "#define lasagna():\n",
    "#    mince garlic\n",
    "#    cut tomato\n",
    "#lasagna()#oversimplified recipe, will not result in actual lasagna\n",
    "\n",
    "def ux():\n",
    "    print \"Here is a function that listing out printing techniques.\"\n",
    "    print 'Single quotes work too!'\n",
    "    print \"I'd  'use' double quotes to encapsulate 'single' quotes in your prints.\"\n",
    "    print 'OK \"maybe\"  one more'\n",
    "ux()"
   ]
  },
  {
   "cell_type": "markdown",
   "metadata": {},
   "source": [
    "#### Exercise Define a function that prints out all of the steps of how you got here today\n",
    "- You can choose to complete your excersices in Jupyter or Spyder. I recommend Spyder for now. \n",
    "- After you complete each exercise save the individual exercise in a folder and name it something like py01_commenting.py"
   ]
  },
  {
   "cell_type": "code",
   "execution_count": null,
   "metadata": {
    "collapsed": true
   },
   "outputs": [],
   "source": [
    "# How did you get here today?\n"
   ]
  },
  {
   "cell_type": "markdown",
   "metadata": {
    "slideshow": {
     "slide_type": "subslide"
    }
   },
   "source": [
    "### Commenting\n",
    "\n",
    "You should comment before each new section of code and can even comment line by line. Aside from that whenever you have a breakthrough comment instructions on what you did for your future self to remember. Write your comment as though someone who does not read code would understand what the code is doing from your comment. "
   ]
  },
  {
   "cell_type": "code",
   "execution_count": null,
   "metadata": {
    "collapsed": false,
    "scrolled": true,
    "slideshow": {
     "slide_type": "subslide"
    }
   },
   "outputs": [],
   "source": [
    "# Typically, you just use the # (pound) sign to comment out everything that follows it on that line.\n",
    "\n",
    "print(\"Not a comment\")\n",
    "#print(\"Am a comment\")\n",
    "\n",
    "\n",
    "# Multiple line comments are slightly different. Simply use 3 single quotes before and after the part you want commented.\n",
    "\n",
    "'''\n",
    "print(\"We are in a comment\")\n",
    "print (\"We are still in a comment\")\n",
    "'''\n",
    "print(\"We are out of the comment\")\n"
   ]
  },
  {
   "cell_type": "markdown",
   "metadata": {},
   "source": [
    "#### Exercise \n",
    "- Take the code you created from the functions exercise copy and paste it below and then put comments in the code\n",
    "to help you understand what you did 6 months from now"
   ]
  },
  {
   "cell_type": "code",
   "execution_count": null,
   "metadata": {
    "collapsed": true
   },
   "outputs": [],
   "source": []
  },
  {
   "cell_type": "markdown",
   "metadata": {},
   "source": [
    "### Basic Math\n",
    "Part of any programming or analytics is basic math. We will now combine math functions and print functions. \t\t\t\t\t\t\t"
   ]
  },
  {
   "cell_type": "code",
   "execution_count": null,
   "metadata": {
    "collapsed": false
   },
   "outputs": [],
   "source": [
    "print \"I will now do some math:\"\n",
    "\n",
    "print \"basic math\", 1 + 9/ 2\n",
    "print \"basic math\",  10/ 3\n",
    "print \"modelo\", 10 % 3\n",
    "print \"division with dec\", 10.0 /3.0\n",
    "\n",
    "print \"What about order of operations?\"\n",
    "\n",
    "print 3 + 2 + 1 - 5 + 4 % 2 - 1 / 4 + 6\n",
    "print (3 + 2 + 1) - (5 + 4 % 2) - 1 / (4 + 6)\n",
    "\n",
    "print \"Is it true that 3 + 2 < 5 - 7?\"\n",
    "\n",
    "print 3 + 2 < 5 - 7\n",
    "\n",
    "print \"Example of printing and Math\"\n",
    "print \"What is 3 + 2?\", 3 + 2\n",
    "print \"What is 5 - 7?\", 5 - 7\n",
    "\n",
    "print \"Oh, that's why it's False.\"\n",
    "\n",
    "print \"How about some more.\"\n",
    "\n",
    "print \"Is it greater?\", 5 > -2\n",
    "print \"Is it greater or equal?\", 5 >= -2\n",
    "print \"Is it less or equal?\", 5 <= -2\n",
    "\n",
    "print (3 ** 4) # 3 to the fourth power\n",
    "\n",
    "print 'basic boolean', 3<7\n",
    "print 'basic boolean', 3>7\n",
    "print 'basic boolean', 1+2<7\n"
   ]
  },
  {
   "cell_type": "markdown",
   "metadata": {},
   "source": [
    "#### Basic Math functions\n",
    "- Print the text '1+ 1 =' and the answer\n",
    "- Create a boolean function that brings back the text of what you are testing on and has an answer of False\n"
   ]
  },
  {
   "cell_type": "code",
   "execution_count": null,
   "metadata": {
    "collapsed": true
   },
   "outputs": [],
   "source": []
  },
  {
   "cell_type": "markdown",
   "metadata": {},
   "source": [
    "#### Variables and Math\n",
    "A variable is a container to hold a value\n",
    "\n",
    "X = 10\n",
    "X is a variable that now holds the number 10\n",
    "\n",
    "I can say X+1 and get 11\n",
    "\n",
    "X = 100\t\n",
    "Y = 72\t\n",
    "Z = 14\t\n",
    "\t(X-Y)+Z = ?\n"
   ]
  },
  {
   "cell_type": "code",
   "execution_count": null,
   "metadata": {
    "collapsed": false
   },
   "outputs": [],
   "source": [
    "#VARIABLES\n",
    "departments = 100\n",
    "headcount_by_dept = 15\n",
    "managers = 92\n",
    "employees = 1498\n",
    "\n",
    "# notice how you can concatinate strings with variables\n",
    "print \"There are\", departments, \" departments in our company\"\n",
    "print \"There are only\", managers,\" managers available\"\n"
   ]
  },
  {
   "cell_type": "markdown",
   "metadata": {},
   "source": [
    "Building Calculators\n"
   ]
  },
  {
   "cell_type": "code",
   "execution_count": null,
   "metadata": {
    "collapsed": false
   },
   "outputs": [],
   "source": [
    "# Finish the code EXERCISE\n",
    "# Lets add some math in our variables with the above code\n",
    "\n",
    "#VARIABLES\n",
    "departments = 100\n",
    "headcount_by_dept = 15\n",
    "managers = 92\n",
    "employees = 1498\n",
    "managers_needed = departments\n",
    "total_headcount = (departments * headcount_by_dept)+ managers_needed\n",
    "\n",
    "# total_headcount minus (managers plus employees)\n",
    "total_headcount_available= \n",
    "\n",
    "# employee divided by department\n",
    "\n",
    "avg_employee_per_dept = \n",
    "\n",
    "# Create a print statement that tells you how many managers are needed, what the total headcount is, the headcount \n",
    "# available and the average employee per department.\n",
    "\n",
    "\n"
   ]
  },
  {
   "cell_type": "markdown",
   "metadata": {},
   "source": [
    " ### EXERCISE\n",
    "Initial Markup (IMU) is the difference between the cost and selling price of an item when it is first introduced for sale.  It is also called Initial Mark On, Markon or Markup.  The formula for this calculation is:  \n",
    "\n",
    "Selling price – cost = Initial Markup Dollars.  \n",
    "\n",
    "If a buyer brings in a line of jeans with a cost of 25 per pair and initially prices them to sell at 55 per pair, the Initial Markup is 30.\t\n",
    "\n",
    "*Create an IMU calculator\n"
   ]
  },
  {
   "cell_type": "code",
   "execution_count": null,
   "metadata": {
    "collapsed": true
   },
   "outputs": [],
   "source": []
  },
  {
   "cell_type": "markdown",
   "metadata": {},
   "source": [
    "#### NEXT - \n",
    "* Review\n",
    "* Conditionals\n",
    "* Functions"
   ]
  }
 ],
 "metadata": {
  "anaconda-cloud": {},
  "kernelspec": {
   "display_name": "Python [default]",
   "language": "python",
   "name": "python2"
  },
  "language_info": {
   "codemirror_mode": {
    "name": "ipython",
    "version": 2
   },
   "file_extension": ".py",
   "mimetype": "text/x-python",
   "name": "python",
   "nbconvert_exporter": "python",
   "pygments_lexer": "ipython2",
   "version": "2.7.12"
  }
 },
 "nbformat": 4,
 "nbformat_minor": 0
}
