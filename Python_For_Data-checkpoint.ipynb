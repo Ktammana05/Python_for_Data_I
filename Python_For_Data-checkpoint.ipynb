{
 "cells": [
  {
   "cell_type": "markdown",
   "metadata": {
    "slideshow": {
     "slide_type": "slide"
    }
   },
   "source": [
    "# Agenda\n",
    "* Python overview\n",
    "* Basic Python syntax\n",
    "* Pandas\n",
    "* Lab\n"
   ]
  },
  {
   "cell_type": "markdown",
   "metadata": {
    "slideshow": {
     "slide_type": "subslide"
    }
   },
   "source": [
    "# Introduction\n"
   ]
  },
  {
   "cell_type": "markdown",
   "metadata": {
    "slideshow": {
     "slide_type": "slide"
    }
   },
   "source": [
    "## Setting up your Environment:\n",
    "\n",
    "- Anaconda Python 2.7 \n",
    "- Spyder\n",
    "- Jupyter Notebooks\n",
    "- GitHub\n",
    "- Datasets"
   ]
  },
  {
   "cell_type": "markdown",
   "metadata": {
    "slideshow": {
     "slide_type": "slide"
    }
   },
   "source": [
    "# Python Overview\n",
    "\n",
    "* Printing, Formatting, Prompts, Calculators, Creating and storing data\n",
    "* Reading files, writing to files, creating decision logic, loops, lists, functions, \n",
    "* Classes, Modules, Numpy, Pandas, Machine learning, Web scrapping, R, SPSS Modeler, SAS,\n"
   ]
  },
  {
   "cell_type": "markdown",
   "metadata": {
    "slideshow": {
     "slide_type": "subslide"
    }
   },
   "source": [
    "## Let's start a step beyond \"Hello World\"\n",
    "Functions and printing text\n"
   ]
  },
  {
   "cell_type": "code",
   "execution_count": null,
   "metadata": {
    "collapsed": false,
    "slideshow": {
     "slide_type": "subslide"
    }
   },
   "outputs": [],
   "source": [
    "#define lasagna():\n",
    "#    mince garlic\n",
    "#    cut tomato\n",
    "#lasagna()#oversimplified recipe, will not result in actual lasagna\n",
    "\n",
    "def ux():\n",
    "    print \"Basic Printing\"\n",
    "    print 'Single quotes work too!'\n",
    "    print \"I'd  'use' double quotes to encapsulate 'single' quotes in your prints.\"\n",
    "    print 'OK \"maybe\"  one more'\n",
    "ux()"
   ]
  },
  {
   "cell_type": "markdown",
   "metadata": {
    "slideshow": {
     "slide_type": "subslide"
    }
   },
   "source": [
    "### Before going any further, commenting is everything\n",
    "You should comment before each new section of code and can even comment line by line. Aside from that whenever you have a breakthrough comment instructions on what you did for your future self to remember. Write your comment as though someone who does not read code would understand what the code is doing from your comment. "
   ]
  },
  {
   "cell_type": "code",
   "execution_count": null,
   "metadata": {
    "collapsed": false,
    "scrolled": true,
    "slideshow": {
     "slide_type": "subslide"
    }
   },
   "outputs": [],
   "source": [
    "# Typically, you just use the # (pound) sign to comment out everything that follows it on that line.\n",
    "\n",
    "print(\"Not a comment\")\n",
    "#print(\"Am a comment\")\n",
    "\n",
    "\n",
    "# Multiple line comments are slightly different. Simply use 3 single quotes before and after the part you want commented.\n",
    "\n",
    "'''\n",
    "print(\"We are in a comment\")\n",
    "print (\"We are still in a comment\")\n",
    "'''\n",
    "print(\"We are out of the comment\")\n"
   ]
  },
  {
   "cell_type": "markdown",
   "metadata": {},
   "source": [
    "###Basic Math\n",
    "part of any programming or analytics is basic math. This exercise will teach you how to run basic math function in combination with print and text. \t\t\t\t\t\t\t\n",
    "\t\t\t\t\t\t\t\n",
    "Open spyder and type the following(going forward this step will be assumed)"
   ]
  },
  {
   "cell_type": "code",
   "execution_count": null,
   "metadata": {
    "collapsed": false
   },
   "outputs": [],
   "source": [
    "print \"I will now do some math:\"\n",
    "\n",
    "print \"basic math\", 25 + 30 / 6\n",
    "print \"modelo\", 25 +30 % 6\n",
    "\n",
    "print \"What about order of operations?\"\n",
    "\n",
    "print 3 + 2 + 1 - 5 + 4 % 2 - 1 / 4 + 6\n",
    "print (3 + 2 + 1) - (5 + 4 % 2) - 1 / (4 + 6)\n",
    "\n",
    "print \"Is it true that 3 + 2 < 5 - 7?\"\n",
    "\n",
    "print 3 + 2 < 5 - 7\n",
    "\n",
    "print \"Example of printing and Math\"\n",
    "print \"What is 3 + 2?\", 3 + 2\n",
    "print \"What is 5 - 7?\", 5 - 7\n",
    "\n",
    "print \"Oh, that's why it's False.\"\n",
    "\n",
    "print \"How about some more.\"\n",
    "\n",
    "print \"Is it greater?\", 5 > -2\n",
    "print \"Is it greater or equal?\", 5 >= -2\n",
    "print \"Is it less or equal?\", 5 <= -2\n",
    "\n",
    "print (3 ** 4) # 3 to the fourth power\n",
    "\n",
    "print (3 // 4) #floor division\n"
   ]
  },
  {
   "cell_type": "markdown",
   "metadata": {},
   "source": [
    "Variables and Names\n",
    "A variable is a container to hold a value\n",
    "\n",
    "X = 10\n",
    "X is a variable that now holds the number 10\n",
    "\n",
    "I can say X+1 and get 11\n",
    "\n",
    "X = 100\t\n",
    "Y = 72\t\n",
    "Z = 14\t\n",
    "\t(X-Y)+Z = ?\n"
   ]
  },
  {
   "cell_type": "code",
   "execution_count": null,
   "metadata": {
    "collapsed": false
   },
   "outputs": [],
   "source": [
    "#VARIABLES\n",
    "departments = 100\n",
    "headcount_by_dept = 15\n",
    "managers = 92\n",
    "employees = 1498\n",
    "\n",
    "# notice how you can concatinate strings with variables\n",
    "print \"There are\", departments, \" departments in our company\"\n",
    "print \"There are only\", managers,\" managers available\"\n"
   ]
  },
  {
   "cell_type": "markdown",
   "metadata": {},
   "source": [
    "Building Calculators\n"
   ]
  },
  {
   "cell_type": "code",
   "execution_count": null,
   "metadata": {
    "collapsed": false
   },
   "outputs": [],
   "source": [
    "# Finish the code EXERCISE\n",
    "#Lets add some math in our variables with the above code\n",
    "\n",
    "#VARIABLES\n",
    "departments = 100\n",
    "headcount_by_dept = 15\n",
    "managers = 92\n",
    "employees = 1498\n",
    "managers_needed = departments\n",
    "total_headcount = (departments * headcount_by_dept)+ managers_needed\n",
    "\n",
    "# total_headcount minus (managers plus employees)\n",
    "total_headcount_available= \n",
    "\n",
    "# employee divided by department\n",
    "\n",
    "avg_employee_per_dept = \n",
    "\n",
    "# Create a print statement that tells you how many managers are needed, what the total headcount is, the headcount \n",
    "# available and the average employee per department.\n",
    "\n",
    "\n"
   ]
  },
  {
   "cell_type": "markdown",
   "metadata": {},
   "source": [
    " ### EXERCISE\n",
    "Initial Markup (IMU) is the difference between the cost and selling price of an item when it is first introduced for sale.  It is also called Initial Mark On, Markon or Markup.  The formula for this calculation is:  \n",
    "\n",
    "Selling price – cost = Initial Markup Dollars.  \n",
    "\n",
    "If a buyer brings in a line of jeans with a cost of 25 per pair and initially prices them to sell at 55 per pair, the Initial Markup is 30.\t\n",
    "\n",
    "*Create an IMU calculator\n"
   ]
  },
  {
   "cell_type": "code",
   "execution_count": null,
   "metadata": {
    "collapsed": true
   },
   "outputs": [],
   "source": []
  },
  {
   "cell_type": "markdown",
   "metadata": {},
   "source": [
    "### CONDITIONALS\n",
    "* If then else\n"
   ]
  },
  {
   "cell_type": "code",
   "execution_count": null,
   "metadata": {
    "collapsed": true
   },
   "outputs": [],
   "source": []
  },
  {
   "cell_type": "code",
   "execution_count": null,
   "metadata": {
    "collapsed": true
   },
   "outputs": [],
   "source": []
  },
  {
   "cell_type": "code",
   "execution_count": null,
   "metadata": {
    "collapsed": true
   },
   "outputs": [],
   "source": []
  },
  {
   "cell_type": "code",
   "execution_count": null,
   "metadata": {
    "collapsed": true
   },
   "outputs": [],
   "source": []
  },
  {
   "cell_type": "markdown",
   "metadata": {},
   "source": [
    "## FUNCTIONS\n",
    "\n",
    "* Functions are a way to write programs within programs\n",
    "* With many functions you can pass variables into them through arguements. \n",
    "* Let's first view a function with no arguements"
   ]
  },
  {
   "cell_type": "code",
   "execution_count": 1,
   "metadata": {
    "collapsed": false
   },
   "outputs": [
    {
     "name": "stdout",
     "output_type": "stream",
     "text": [
      "Even though this has no arguements it is still important\n",
      "arg1: 'this is an arguement'\n",
      "arg1: 'This is arguement1', arg2: 'This is arguement2'\n"
     ]
    },
    {
     "data": {
      "text/plain": [
       "\"I'm now calling print_two and calling 2 arguements)\""
      ]
     },
     "execution_count": 1,
     "metadata": {},
     "output_type": "execute_result"
    }
   ],
   "source": [
    "# We will define 3 functions:\n",
    "# print_none, print_one, print_two\n",
    "\n",
    "def print_none():\n",
    "    print \"Even though this has no arguements it is still important\"\n",
    "\n",
    "#This function will take 1 arguement\n",
    "def print_one(arg1):\n",
    "    print \"arg1: %r\" % arg1\n",
    "\n",
    "# This function will take 2 arguements\n",
    "def print_two(arg1, arg2):\n",
    "    print \"arg1: %r, arg2: %r\" % (arg1, arg2)\n",
    "\n",
    "print_none()\n",
    "    \n",
    "print_one(\"this is an arguement\") \n",
    "'''Notice I'm calling print_one function\n",
    "I'm then passing text as an arguement'''\n",
    "\n",
    "print_two(\"This is arguement1\", \"This is arguement2\")\n",
    "'''I'm now calling print_two and calling 2 arguements)'''"
   ]
  },
  {
   "cell_type": "markdown",
   "metadata": {},
   "source": [
    "### EXERCISE\n",
    "Build a function that prints off and gives examples of 3 things you have learned so far."
   ]
  },
  {
   "cell_type": "code",
   "execution_count": null,
   "metadata": {
    "collapsed": true
   },
   "outputs": [],
   "source": []
  },
  {
   "cell_type": "markdown",
   "metadata": {},
   "source": [
    "### Math Functions"
   ]
  },
  {
   "cell_type": "code",
   "execution_count": 40,
   "metadata": {
    "collapsed": false
   },
   "outputs": [
    {
     "data": {
      "text/plain": [
       "15"
      ]
     },
     "execution_count": 40,
     "metadata": {},
     "output_type": "execute_result"
    }
   ],
   "source": [
    "def add(a, b):\n",
    "    a=10\n",
    "    b=5\n",
    "    return a + b\n",
    "add(a,b)"
   ]
  },
  {
   "cell_type": "code",
   "execution_count": 35,
   "metadata": {
    "collapsed": false
   },
   "outputs": [
    {
     "data": {
      "text/plain": [
       "5"
      ]
     },
     "execution_count": 35,
     "metadata": {},
     "output_type": "execute_result"
    }
   ],
   "source": [
    "def subtract(a, b):\n",
    "    a=10\n",
    "    b=5\n",
    "    return a - b\n",
    "subtract(a,b)"
   ]
  },
  {
   "cell_type": "code",
   "execution_count": 43,
   "metadata": {
    "collapsed": false
   },
   "outputs": [
    {
     "data": {
      "text/plain": [
       "2"
      ]
     },
     "execution_count": 43,
     "metadata": {},
     "output_type": "execute_result"
    }
   ],
   "source": [
    "def divide(a, b):\n",
    "    a=10\n",
    "    b=5\n",
    "    return a/b\n",
    "divide(a,b)"
   ]
  },
  {
   "cell_type": "markdown",
   "metadata": {},
   "source": [
    "### EXERCISE: \n",
    "* Write a function that takes two parameters (hours and rate), and returns the total pay."
   ]
  },
  {
   "cell_type": "code",
   "execution_count": null,
   "metadata": {
    "collapsed": true
   },
   "outputs": [],
   "source": []
  },
  {
   "cell_type": "markdown",
   "metadata": {},
   "source": [
    "## LISTS, SETS, TUPLES, DICTIONARIES\n",
    "These are all ways to store data OR data structures. \n",
    "\n",
    "#### SIMPLE CONCEPT\n",
    "\n",
    "* Lists are like grocery lists\n",
    "* Tuples are like an item on your grocery list and its price\n",
    "* Dictionary is like a recipe\n",
    "\n",
    "SYMBOLS to memorize\n",
    "### LIST [ ]\n",
    "### TUPLE ( )\n",
    "### DICTIONARY { }\n",
    "\n",
    "spend some time committing the above symbols to memory\n",
    "\n",
    "\n",
    "\n",
    "\n",
    "### LIST [ ]\n",
    "Let's look at lists first\n",
    "List can contain integers, characters or a mix of both\n",
    "\n",
    "list1 = [1,2,3,4,5,6]\n",
    "\n",
    "list2 = [soy, bread, eggs]\n",
    "\n",
    "list3 = [1,5.2,bread]\n",
    "\n",
    "* Lists can contain lists\n",
    "\n",
    "list4 = [soy, bread, eggs,[corn, kale, carrots]]\n",
    "\n",
    "* List of things you can do with lists\n",
    "\n",
    "Delete, Append, Extend, Insert, Populate, Remove, Reverse, Sort, Add lists together. \n",
    "\n",
    "For now we will focus on creating lists and :\n",
    "\n",
    "* adding lists together\n",
    "* append values\n",
    "* replace a list element\n",
    "* remove list elements\n",
    "* explorting data\n",
    "* sorting data\n",
    "* slicing data\n",
    "\n",
    "### creating\n",
    "a = [1, 2, 3, 4, 5]     # create lists using brackets\n",
    "\n",
    "### slicing\n",
    "a[0]        # returns 1 (Python is zero indexed)\n",
    "a[1:3]      # returns [2, 3] (inclusive of first index but exclusive of second)\n",
    "a[-1]       # returns 5 (last element)\n",
    "\n",
    "### appending\n",
    "a[5] = 6        # error because you can't assign outside the existing range\n",
    "a.append(6)     # list method that appends 6 to the end\n",
    "a = a + [0]     # use plus sign to combine lists\n",
    "\n",
    "### checking length\n",
    "len(a)      # returns 7\n",
    "\n",
    "### checking type\n",
    "type(a)     # returns list\n",
    "type(a[0])  # returns int\n",
    "\n",
    "### sorting\n",
    "sorted(a)               # sorts the list\n",
    "sorted(a, reverse=True) # reverse=True is an 'optional argument'\n",
    "sorted(a, True)         # error because optional arguments must be named\n",
    "\n",
    "\n",
    "## STRINGS\n",
    "If you have ever done any amount of working with SQL or EXCEL you will be familiar \n",
    "with the need to review and manipulate strings. If you have not these basic concepts\n",
    "may come in handy in the future. \n",
    "\n",
    "### creating\n",
    "a = 'hello'     # can use single or double quotes\n",
    "\n",
    "### slicing\n",
    "a[0]        # returns 'h' (works like list slicing)\n",
    "a[1:3]      # returns 'el'\n",
    "a[-1]       # returns 'o'\n",
    "\n",
    "### concatenating\n",
    "a + ' there'        # use plus sign to combine strings\n",
    "5 + ' there'        # error because they are different types\n",
    "str(5) + ' there'   # cast 5 to a string in order for this to work\n",
    "\n",
    "#### uppercasing\n",
    "a[0] = 'H'      # error because strings are immutable (can't overwrite characters)\n",
    "a.upper()       # string method (this method doesn't exist for lists)\n",
    "\n",
    "#### checking length\n",
    "len(a)      # returns 5 (number of characters)"
   ]
  },
  {
   "cell_type": "markdown",
   "metadata": {},
   "source": [
    "##### EXERCISE:\n",
    "Create your list of favorite foods put a '_' for spaces, i.e. phad_thai"
   ]
  },
  {
   "cell_type": "code",
   "execution_count": null,
   "metadata": {
    "collapsed": true
   },
   "outputs": [],
   "source": []
  },
  {
   "cell_type": "markdown",
   "metadata": {},
   "source": [
    "#### EXERCISE:\n",
    "1. Create a list of the first names of your family members.\n",
    "2. Print the name of the last person in the list.\n",
    "3. Change the name of the new person to lowercase using the string method 'lower'.\n",
    "4. Sort the list in reverse alphabetical order.\n",
    "Bonus: Sort the list by the length of the names (shortest to longest)."
   ]
  },
  {
   "cell_type": "code",
   "execution_count": null,
   "metadata": {
    "collapsed": true
   },
   "outputs": [],
   "source": []
  },
  {
   "cell_type": "markdown",
   "metadata": {},
   "source": [
    "### TUPLE ( )"
   ]
  },
  {
   "cell_type": "code",
   "execution_count": null,
   "metadata": {
    "collapsed": true
   },
   "outputs": [],
   "source": []
  },
  {
   "cell_type": "markdown",
   "metadata": {},
   "source": [
    "### DICTIONARY {}"
   ]
  },
  {
   "cell_type": "code",
   "execution_count": 3,
   "metadata": {
    "collapsed": false
   },
   "outputs": [
    {
     "data": {
      "text/plain": [
       "3"
      ]
     },
     "execution_count": 3,
     "metadata": {},
     "output_type": "execute_result"
    }
   ],
   "source": [
    "family = {'dad':'Dr.Venture', 'mom':'Unknown', 'size':2}\n",
    "\n",
    "# check the length\n",
    "len(family) # returns 3 (number of key-value pairs)"
   ]
  },
  {
   "cell_type": "code",
   "execution_count": 4,
   "metadata": {
    "collapsed": false
   },
   "outputs": [
    {
     "data": {
      "text/plain": [
       "'Dr.Venture'"
      ]
     },
     "execution_count": 4,
     "metadata": {},
     "output_type": "execute_result"
    }
   ],
   "source": [
    "# use the key to look up a value (fast operation regardless of dictionary size)\n",
    "family['dad'] # returns 'Dr.Venture'"
   ]
  },
  {
   "cell_type": "code",
   "execution_count": 10,
   "metadata": {
    "collapsed": false
   },
   "outputs": [],
   "source": [
    "# add a new entry\n",
    "family['pet'] = 'scamp'"
   ]
  },
  {
   "cell_type": "code",
   "execution_count": 11,
   "metadata": {
    "collapsed": false
   },
   "outputs": [
    {
     "data": {
      "text/plain": [
       "'scamp ii'"
      ]
     },
     "execution_count": 11,
     "metadata": {},
     "output_type": "execute_result"
    }
   ],
   "source": [
    "# keys must be unique, so this edits an existing entry\n",
    "family['pet'] = 'scamp ii'\n",
    "family['pet']"
   ]
  },
  {
   "cell_type": "code",
   "execution_count": 12,
   "metadata": {
    "collapsed": true
   },
   "outputs": [],
   "source": [
    "# delete an entry\n",
    "del family['pet']"
   ]
  },
  {
   "cell_type": "code",
   "execution_count": 14,
   "metadata": {
    "collapsed": false
   },
   "outputs": [
    {
     "data": {
      "text/plain": [
       "{'cat': 'scamp',\n",
       " 'dad': 'Dr.Venture',\n",
       " 'kids': ['hank', 'dean'],\n",
       " 'mom': 'Unknown',\n",
       " 'size': 2}"
      ]
     },
     "execution_count": 14,
     "metadata": {},
     "output_type": "execute_result"
    }
   ],
   "source": [
    "# keys can be strings or numbers or tuples, values can be any type\n",
    "family['kids'] = ['hank', 'dean'] # value can be a list\n",
    "family"
   ]
  },
  {
   "cell_type": "code",
   "execution_count": null,
   "metadata": {
    "collapsed": true
   },
   "outputs": [],
   "source": [
    "# useful methods\n",
    "family.keys() # returns list: ['dad', 'kids', 'mom', 'size']\n",
    "family.values() # returns list: ['Dr.Venture', ['hank', 'dean'], 'unknown', 2]\n",
    "family.items() # returns list of tuples:\n",
    "# [('dad', 'Dr.Venture'), ('kids', ['hank', 'dean']), ('mom', 'unknown'), ('size', 2)]"
   ]
  },
  {
   "cell_type": "code",
   "execution_count": null,
   "metadata": {
    "collapsed": true
   },
   "outputs": [],
   "source": [
    "#1. Print the name of the mom."
   ]
  },
  {
   "cell_type": "code",
   "execution_count": null,
   "metadata": {
    "collapsed": true
   },
   "outputs": [],
   "source": []
  },
  {
   "cell_type": "code",
   "execution_count": null,
   "metadata": {
    "collapsed": true
   },
   "outputs": [],
   "source": [
    "#2. Change the size to 5."
   ]
  },
  {
   "cell_type": "code",
   "execution_count": null,
   "metadata": {
    "collapsed": true
   },
   "outputs": [],
   "source": []
  },
  {
   "cell_type": "code",
   "execution_count": null,
   "metadata": {
    "collapsed": true
   },
   "outputs": [],
   "source": [
    "#3. Add 'Hank2' to the list of kids. Note-In this tv series the kids are clones"
   ]
  },
  {
   "cell_type": "code",
   "execution_count": null,
   "metadata": {
    "collapsed": true
   },
   "outputs": [],
   "source": []
  },
  {
   "cell_type": "code",
   "execution_count": null,
   "metadata": {
    "collapsed": true
   },
   "outputs": [],
   "source": [
    "#4. Fix 'hank' and 'dean' so that the first letter is capitalized."
   ]
  },
  {
   "cell_type": "code",
   "execution_count": null,
   "metadata": {
    "collapsed": true
   },
   "outputs": [],
   "source": []
  },
  {
   "cell_type": "code",
   "execution_count": null,
   "metadata": {
    "collapsed": true
   },
   "outputs": [],
   "source": [
    "#5 Add to the family dictionary bodygaurd 'Brock'"
   ]
  },
  {
   "cell_type": "code",
   "execution_count": null,
   "metadata": {
    "collapsed": true
   },
   "outputs": [],
   "source": []
  },
  {
   "cell_type": "markdown",
   "metadata": {},
   "source": [
    "#### You can create a list of numbers using range\n",
    "list(range(4))\n",
    "list(range(10))"
   ]
  },
  {
   "cell_type": "code",
   "execution_count": null,
   "metadata": {
    "collapsed": true
   },
   "outputs": [],
   "source": [
    "#Create a range  of 100\n"
   ]
  },
  {
   "cell_type": "markdown",
   "metadata": {},
   "source": [
    "### Loops and Lists\n",
    "* For and While loop\n",
    "* Coin toss example\n",
    "* For loop\n",
    "* While loop\n",
    "Creating list of products\n",
    "\n",
    "#### For and While loop\n",
    "Loops are a way to reduce code and automate tasks that you would repeat over and over. \n",
    "\n",
    "A loop is a sequence of instructions that are continually repeated until\t\t\t\n",
    "a certain condition is reached.\t\t\t\n",
    "\t\t\t\n",
    "* For loop examples \t\t\t\n",
    "An item of data is retrieved or changed\t\t\t\n",
    "Then a condition is checked to see if all criteria has been met\t\t\t\n",
    "if not the process is repeated. \t\t\t\n",
    "\t\t\t\n",
    "We do this all the time in life\t\t\t\n",
    "\t\t\t\n",
    "Shampoo directions\t\t\t\n",
    "Rinse\t\t\t\n",
    "Wash\t\t\t\n",
    "Rinse\t\t\t\n",
    "Repeat until clean\t\t\t\n",
    "\t\t\t\n",
    "There are 2 types of loops in python the FOR loop and the WHILE loop\t\t\t\n",
    "For loops and While loops both allow us to perform an action over and over and over\tand over and over.\t\t\n",
    "\t\t\t\n",
    "for loops will iterate through list and perform its action once for each of those items\t\t\t\n",
    "\tlists and strings have a finite length \t\t\n",
    "\tSo we know how many times a for loop will run based on the length of the list\t\t\n",
    "A while loop however will continue running and will check conditions to determine whether it should run the loop 1 more time. \t\t\t\n",
    "\t\t\t\n",
    "Work and 8 hour day For loop\n",
    "\t\t\n",
    "So you will work 8 hours and for every 1 hour you work you will look ask have I worked 8 hours yet? \n",
    "\t\t\t\n"
   ]
  },
  {
   "cell_type": "code",
   "execution_count": 35,
   "metadata": {
    "collapsed": false
   },
   "outputs": [
    {
     "name": "stdout",
     "output_type": "stream",
     "text": [
      "Start of hour\n",
      "End of hour\n",
      "1 hours\n",
      "Start of hour\n",
      "End of hour\n",
      "2 hours\n",
      "Start of hour\n",
      "End of hour\n",
      "3 hours\n",
      "Start of hour\n",
      "End of hour\n",
      "4 hours\n",
      "Start of hour\n",
      "End of hour\n",
      "5 hours\n",
      "Start of hour\n",
      "End of hour\n",
      "6 hours\n",
      "Start of hour\n",
      "End of hour\n",
      "7 hours\n",
      "Start of hour\n",
      "End of hour\n",
      "8 hours\n",
      "Go home you have worked a full 8 hour day.\n"
     ]
    }
   ],
   "source": [
    "for count in range(1,9):\n",
    "    print \"Start of hour\"\n",
    "    print \"End of hour\"\n",
    "    print str(count) +\" hours\"\n",
    "print \"Go home you have worked a full 8 hour day.\""
   ]
  },
  {
   "cell_type": "code",
   "execution_count": null,
   "metadata": {
    "collapsed": true
   },
   "outputs": [],
   "source": [
    "from random import randint\n",
    "num = 100\n",
    "flips = [randint(0,1) for r in range(num)]\n",
    "results = []\n",
    "for object in flips:\n",
    "        if object == 0:\n",
    "            results.append('Heads')\n",
    "        elif object == 1:\n",
    "            results.append('Tails')\n",
    "print results"
   ]
  },
  {
   "cell_type": "markdown",
   "metadata": {},
   "source": [
    "#### BONUS Excercise - come back to this code and update it to count the number of flips. Do some math to bring back results that show the % of times heads and the % of times tails."
   ]
  },
  {
   "cell_type": "code",
   "execution_count": null,
   "metadata": {
    "collapsed": true
   },
   "outputs": [],
   "source": []
  },
  {
   "cell_type": "markdown",
   "metadata": {},
   "source": [
    "Work until boss leaves!\t\t\t\n",
    "This is a while loop\t\t\t\n",
    "You are not sure when your boss leaves so you complete a task and then look over at thier desk to see if they are gone. Once they are gone your weekend starts!!!!"
   ]
  },
  {
   "cell_type": "code",
   "execution_count": null,
   "metadata": {
    "collapsed": true
   },
   "outputs": [],
   "source": []
  },
  {
   "cell_type": "code",
   "execution_count": 30,
   "metadata": {
    "collapsed": false
   },
   "outputs": [
    {
     "name": "stdout",
     "output_type": "stream",
     "text": [
      "Heads down and complete a task!\n",
      "When task is finished see if they are gone!\n",
      "1 task(s) complete, good job!\n",
      "\n",
      "Heads down and complete a task!\n",
      "When task is finished see if they are gone!\n",
      "2 task(s) complete, good job!\n",
      "\n",
      "Heads down and complete a task!\n",
      "When task is finished see if they are gone!\n",
      "3 task(s) complete, good job!\n",
      "\n",
      "Heads down and complete a task!\n",
      "When task is finished see if they are gone!\n",
      "4 task(s) complete, good job!\n",
      "\n",
      "Heads down and complete a task!\n",
      "When task is finished see if they are gone!\n",
      "5 task(s) complete, good job!\n",
      "\n",
      "Heads down and complete a task!\n",
      "When task is finished see if they are gone!\n",
      "6 task(s) complete, good job!\n",
      "\n",
      "Heads down and complete a task!\n",
      "When task is finished see if they are gone!\n",
      "7 task(s) complete, good job!\n",
      "\n",
      "Heads down and complete a task!\n",
      "When task is finished see if they are gone!\n",
      "8 task(s) complete, good job!\n",
      "\n",
      "Heads down and complete a task!\n",
      "When task is finished see if they are gone!\n",
      "9 task(s) complete, good job!\n",
      "\n",
      "Heads down and complete a task!\n",
      "When task is finished see if they are gone!\n",
      "10 task(s) complete, good job!\n",
      "\n",
      "Heads down and complete a task!\n",
      "When task is finished see if they are gone!\n",
      "11 task(s) complete, good job!\n",
      "\n",
      "Heads down and complete a task!\n",
      "When task is finished see if they are gone!\n",
      "12 task(s) complete, good job!\n",
      "\n",
      "Heads down and complete a task!\n",
      "When task is finished see if they are gone!\n",
      "13 task(s) complete, good job!\n",
      "\n",
      "Heads down and complete a task!\n",
      "When task is finished see if they are gone!\n",
      "14 task(s) complete, good job!\n",
      "\n",
      "Heads down and complete a task!\n",
      "When task is finished see if they are gone!\n",
      "15 task(s) complete, good job!\n",
      "\n",
      "Heads down and complete a task!\n",
      "When task is finished see if they are gone!\n",
      "16 task(s) complete, good job!\n",
      "\n",
      "Go home you hard worker, boss is gone\n"
     ]
    }
   ],
   "source": [
    "import random\n",
    "#variables\n",
    "boss_is_still_working_on_your_review = True\n",
    "count = 0\n",
    "#stay at work as long as your boss is working on your review\n",
    "while boss_is_still_working_on_your_review:\t\n",
    "    print \"Heads down and complete a task!\"\t\n",
    "    print \"When task is finished see if they are gone!\"\t\n",
    "    count +=1\n",
    "    print str(count) +\" task(s) complete, good job!\"\n",
    "    print\n",
    "    \n",
    "    #Boss will randomly leave\n",
    "    if random.randrange(0,10) ==0:\n",
    "        boss_is_still_working_on_your_review = False\n",
    "        print \"Go home you hard worker, boss is gone\""
   ]
  },
  {
   "cell_type": "code",
   "execution_count": 23,
   "metadata": {
    "collapsed": false
   },
   "outputs": [
    {
     "name": "stdout",
     "output_type": "stream",
     "text": [
      "0\n",
      "\n",
      "1\n",
      "Yes\n",
      "2\n",
      "YesYes\n",
      "3\n",
      "YesYesYes\n",
      "4\n",
      "YesYesYesYes\n",
      "5\n",
      "YesYesYesYesYes\n"
     ]
    }
   ],
   "source": [
    "n=(range(6))\n",
    "for count in n: \n",
    "    print(count) \n",
    "    print('Yes' * count)"
   ]
  },
  {
   "cell_type": "code",
   "execution_count": 24,
   "metadata": {
    "collapsed": false
   },
   "outputs": [
    {
     "name": "stdout",
     "output_type": "stream",
     "text": [
      "1\n",
      "Yes\n",
      "2\n",
      "YesYes\n",
      "3\n",
      "YesYesYes\n",
      "Done counting.\n",
      "red\n",
      "blue\n",
      "green\n"
     ]
    }
   ],
   "source": [
    "for count in [1, 2, 3]:\n",
    "    print(count)\n",
    "    print('Yes' * count)\n",
    "print('Done counting.')\n",
    "for color in ['red', 'blue', 'green']:\n",
    "    print(color)"
   ]
  },
  {
   "cell_type": "markdown",
   "metadata": {},
   "source": [
    "#### summary loops and lists\n",
    "There are for loops and that is what you want to use 9 times out of 10 they are have an end. \n",
    "While loops can go on into oblivion. You use loops when you have a repeatable process and you want to \n",
    "reduce code. If youre not sure when you would use a loop just code away and when you hit something where you think, \n",
    "\"I wish there was a way to reduce this code and only code it once...probably going to be a loop.\"\n",
    "For more information on loops checkout the documentation:\n",
    "http://anh.cs.luc.edu/python/hands-on/3.1/handsonHtml/loops.html"
   ]
  },
  {
   "cell_type": "markdown",
   "metadata": {},
   "source": [
    "### Read Data\n",
    "\n",
    "Lets take a look at what the code is going to do. with most code you have to be able to read it backwards. Yoda talk. so reading this backwards we are : taking a drinks.csv file and reading it using a read_csv functions from pd(pandas) and then loading that data into a variable called drinks. drinks = pd.read_csv('~/Desktop/DataScience/drinks.csv')\n",
    "You will want to adjust the link to navigate to where your file is located."
   ]
  },
  {
   "cell_type": "code",
   "execution_count": null,
   "metadata": {
    "collapsed": true
   },
   "outputs": [],
   "source": [
    "# read in the drinks data\n",
    "drinks = pd.read_csv('~/Desktop/DataScience/drinks.csv')"
   ]
  },
  {
   "cell_type": "markdown",
   "metadata": {},
   "source": [
    "### Connect to a database and run SQL\n",
    "You may need to install psycopg2\n",
    "from your CMD line\n",
    "type the following\n",
    "sudo apt-get install libpq-dev python-dev\n",
    "pip install psycopg2\n",
    "* connect\n",
    "* connect and run a query"
   ]
  },
  {
   "cell_type": "code",
   "execution_count": 66,
   "metadata": {
    "collapsed": false
   },
   "outputs": [
    {
     "name": "stdout",
     "output_type": "stream",
     "text": [
      "Connecting to database\n",
      "\t->host='analyticsga.cuwj8wuu6wbh.us-west-2.rds.amazonaws.com'dbname='iowa_liquor_sales_database' user='analytics_student' password='analyticsga'\n",
      "Connected!\n",
      "\n",
      "[('Adair', 7682),\n",
      " ('Adams', 4029),\n",
      " ('Allamakee', 14330),\n",
      " ('Appanoose', 12884),\n",
      " ('Audubon', 6119),\n",
      " ('Benton', 26076),\n",
      " ('Black Hawk', 131090),\n",
      " ('Boone', 26306),\n",
      " ('Bremer', 24276),\n",
      " ('Buchanan', 20958),\n",
      " ('Buena Vista', 20260),\n",
      " ('Butler', 14867),\n",
      " ('Calhoun', 9670),\n",
      " ('Carroll', 20816),\n",
      " ('Cass', 13956),\n",
      " ('Cedar', 18499),\n",
      " ('Cerro Gordo', 44151),\n",
      " ('Cherokee', 12072),\n",
      " ('Chickasaw', 12439),\n",
      " ('Clarke', 9286),\n",
      " ('Clay', 16667),\n",
      " ('Clayton', 18129),\n",
      " ('Clinton', 49116),\n",
      " ('Crawford', 17096),\n",
      " ('Dallas', 66135),\n",
      " ('Davis', 8753),\n",
      " ('Decatur', 8457),\n",
      " ('Delaware', 17764),\n",
      " ('Des Moines', 40325),\n",
      " ('Dickinson', 16667),\n",
      " ('Dubuque', 93653),\n",
      " ('Emmet', 10302),\n",
      " ('Fayette', 20880),\n",
      " ('Floyd', 16303),\n",
      " ('Franklin', 10680),\n",
      " ('Fremont', 7441),\n",
      " ('Greene', 9336),\n",
      " ('Grundy', 12453),\n",
      " ('Guthrie', 10954),\n",
      " ('Hamilton', 15673),\n",
      " ('Hancock', 11341),\n",
      " ('Hardin', 17534),\n",
      " ('Harrison', 14928),\n",
      " ('Henry', 20145),\n",
      " ('Howard', 9566),\n",
      " ('Humboldt', 9815),\n",
      " ('Ida', 7089),\n",
      " ('Iowa', 16355),\n",
      " ('Jackson', 19848),\n",
      " ('Jasper', 36842),\n",
      " ('Jefferson', 16843),\n",
      " ('Johnson', 130882),\n",
      " ('Jones', 20638),\n",
      " ('Keokuk', 10511),\n",
      " ('Kossuth', 15543),\n",
      " ('Lee', 35862),\n",
      " ('Linn', 211226),\n",
      " ('Louisa', 11387),\n",
      " ('Lucas', 8898),\n",
      " ('Lyon', 11581),\n",
      " ('Madison', 15679),\n",
      " ('Mahaska', 22381),\n",
      " ('Marion', 33309),\n",
      " ('Marshall', 40648),\n",
      " ('Mills', 15059),\n",
      " ('Mitchell', 10776),\n",
      " ('Monona', 9243),\n",
      " ('Monroe', 7970),\n",
      " ('Montgomery', 10740),\n",
      " ('Muscatine', 42745),\n",
      " (\"O'Brien\", 14398),\n",
      " ('Osceola', 6462),\n",
      " ('Page', 15932),\n",
      " ('Palo Alto', 9421),\n",
      " ('Plymouth', 24986),\n",
      " ('Pocahontas', 7310),\n",
      " ('Polk', 430640),\n",
      " ('Pottawattamie', 93158),\n",
      " ('Poweshiek', 18914),\n",
      " ('Ringgold', 5131),\n",
      " ('Sac', 10350),\n",
      " ('Scott', 165224),\n",
      " ('Shelby', 12167),\n",
      " ('Sioux', 33704),\n",
      " ('Story', 89542),\n",
      " ('Tama', 17767),\n",
      " ('Taylor', 6317),\n",
      " ('Union', 12534),\n",
      " ('Van Buren', 7570),\n",
      " ('Wapello', 35625),\n",
      " ('Warren', 46225),\n",
      " ('Washington', 21704),\n",
      " ('Wayne', 6403),\n",
      " ('Webster', 38013),\n",
      " ('Winnebago', 10866),\n",
      " ('Winneshiek', 21056),\n",
      " ('Woodbury', 102172),\n",
      " ('Worth', 7598),\n",
      " ('Wright', 13229)]\n"
     ]
    },
    {
     "ename": "NameError",
     "evalue": "name 'records' is not defined",
     "output_type": "error",
     "traceback": [
      "\u001b[0;31m---------------------------------------------------------------------------\u001b[0m",
      "\u001b[0;31mNameError\u001b[0m                                 Traceback (most recent call last)",
      "\u001b[0;32m<ipython-input-66-e98e93ea4eb3>\u001b[0m in \u001b[0;36m<module>\u001b[0;34m()\u001b[0m\n\u001b[1;32m     30\u001b[0m \u001b[1;32mif\u001b[0m \u001b[0m__name__\u001b[0m \u001b[1;33m==\u001b[0m \u001b[1;34m\"__main__\"\u001b[0m\u001b[1;33m:\u001b[0m\u001b[1;33m\u001b[0m\u001b[0m\n\u001b[1;32m     31\u001b[0m         \u001b[0mmain\u001b[0m\u001b[1;33m(\u001b[0m\u001b[1;33m)\u001b[0m\u001b[1;33m\u001b[0m\u001b[0m\n\u001b[0;32m---> 32\u001b[0;31m \u001b[1;32mprint\u001b[0m \u001b[0mrecords\u001b[0m\u001b[1;33m\u001b[0m\u001b[0m\n\u001b[0m",
      "\u001b[0;31mNameError\u001b[0m: name 'records' is not defined"
     ]
    }
   ],
   "source": [
    "#!/usr/bin/python\n",
    "import psycopg2\n",
    "import sys\n",
    "import pprint\n",
    " \n",
    "def main():\n",
    "\t#Define our connection stri\n",
    "\tconn_string = \"host='analyticsga.cuwj8wuu6wbh.us-west-2.rds.amazonaws.com'dbname='iowa_liquor_sales_database' user='analytics_student' password='analyticsga'\"\n",
    " \n",
    "\t# print the connection string we will use to connect\n",
    "\tprint \"Connecting to database\\n\t->%s\" % (conn_string)\n",
    " \n",
    "\t# get a connection, if a connect cannot be made an exception will be raised here\n",
    "\tconn = psycopg2.connect(conn_string)\n",
    " \n",
    "\t# conn.cursor will return a cursor object, you can use this cursor to perform queries\n",
    "\tcursor = conn.cursor()\n",
    "\tprint \"Connected!\\n\"\n",
    " \n",
    "\tcursor.execute(\"SELECT * FROM counties\")\n",
    " \n",
    "\t# retrieve the records from the database\n",
    "\trecords = cursor.fetchall()\n",
    " \n",
    "\t# print out the records using pretty print\n",
    "\t# note that the NAMES of the columns are not shown, instead just indexes.\n",
    "\t# for most people this isn't very useful so we'll show you how to return\n",
    "\t# columns as a dictionary (hash) in the next example.\n",
    "\tpprint.pprint(records)\n",
    "if __name__ == \"__main__\":\n",
    "\tmain()\n"
   ]
  },
  {
   "cell_type": "code",
   "execution_count": 65,
   "metadata": {
    "collapsed": false
   },
   "outputs": [
    {
     "ename": "NameError",
     "evalue": "name 'records' is not defined",
     "output_type": "error",
     "traceback": [
      "\u001b[0;31m---------------------------------------------------------------------------\u001b[0m",
      "\u001b[0;31mNameError\u001b[0m                                 Traceback (most recent call last)",
      "\u001b[0;32m<ipython-input-65-b290368a7194>\u001b[0m in \u001b[0;36m<module>\u001b[0;34m()\u001b[0m\n\u001b[0;32m----> 1\u001b[0;31m \u001b[1;32mprint\u001b[0m \u001b[0mrecords\u001b[0m\u001b[1;33m\u001b[0m\u001b[0m\n\u001b[0m",
      "\u001b[0;31mNameError\u001b[0m: name 'records' is not defined"
     ]
    }
   ],
   "source": [
    "print records"
   ]
  },
  {
   "cell_type": "markdown",
   "metadata": {
    "slideshow": {
     "slide_type": "slide"
    }
   },
   "source": [
    "# Introduction to Pandas\n",
    "\n",
    "**Pandas, Know it! Love it! We will use it extensively.**\n",
    "\n",
    "Will allow us to use short lines of code to do important manipulation and viewing of our data\n",
    "* Object Creation\n",
    "* Viewing data\n",
    "* Selection\n",
    "* Missing data\n",
    "* Grouping\n",
    "* Reshaping\n",
    "* Time series\n",
    "* Plotting\n",
    "* i/o\n",
    " \n",
    "\n",
    "_pandas.pydata.org_"
   ]
  },
  {
   "cell_type": "markdown",
   "metadata": {
    "slideshow": {
     "slide_type": "slide"
    }
   },
   "source": [
    "## Pandas Overview\n",
    "\n",
    "_Source: [pandas.pydata.org](http://pandas.pydata.org/pandas-docs/stable/10min.html)_"
   ]
  },
  {
   "cell_type": "code",
   "execution_count": null,
   "metadata": {
    "collapsed": false,
    "slideshow": {
     "slide_type": "subslide"
    }
   },
   "outputs": [],
   "source": [
    "import pandas as pd\n",
    "import matplotlib.pyplot as plt"
   ]
  },
  {
   "cell_type": "code",
   "execution_count": null,
   "metadata": {
    "collapsed": false,
    "slideshow": {
     "slide_type": "subslide"
    }
   },
   "outputs": [],
   "source": [
    "dates = pd.date_range('20140101',periods=6)\n",
    "dates"
   ]
  },
  {
   "cell_type": "code",
   "execution_count": null,
   "metadata": {
    "collapsed": false,
    "slideshow": {
     "slide_type": "subslide"
    }
   },
   "outputs": [],
   "source": [
    "df = pd.DataFrame(np.random.randn(6,4),index=dates,columns=list('ABCD'))\n",
    "z = pd.DataFrame(index = df.index, columns = df.columns)\n",
    "df.columns"
   ]
  },
  {
   "cell_type": "code",
   "execution_count": null,
   "metadata": {
    "collapsed": false,
    "slideshow": {
     "slide_type": "subslide"
    }
   },
   "outputs": [],
   "source": [
    "# Index, columns, underlying numpy data\n",
    "df"
   ]
  },
  {
   "cell_type": "code",
   "execution_count": null,
   "metadata": {
    "collapsed": false,
    "slideshow": {
     "slide_type": "fragment"
    }
   },
   "outputs": [],
   "source": [
    "df.T\n"
   ]
  },
  {
   "cell_type": "code",
   "execution_count": null,
   "metadata": {
    "collapsed": false
   },
   "outputs": [],
   "source": [
    "df"
   ]
  },
  {
   "cell_type": "code",
   "execution_count": null,
   "metadata": {
    "collapsed": false
   },
   "outputs": [],
   "source": [
    "temp = df.T\n",
    "temp"
   ]
  },
  {
   "cell_type": "code",
   "execution_count": null,
   "metadata": {
    "collapsed": true
   },
   "outputs": [],
   "source": [
    "df = df.T"
   ]
  },
  {
   "cell_type": "code",
   "execution_count": null,
   "metadata": {
    "collapsed": false,
    "slideshow": {
     "slide_type": "subslide"
    }
   },
   "outputs": [],
   "source": [
    "df2 = pd.DataFrame({ 'A' : 1.,\n",
    "                         'B' : pd.Timestamp('20130102'),\n",
    "                         'C' : pd.Series(1,index=list(range(4)),dtype='float32'),\n",
    "                         'D' : np.array([3] * 4,dtype='int32'),\n",
    "                         'E' : 'foo' })\n",
    "    \n",
    "\n",
    "df2"
   ]
  },
  {
   "cell_type": "code",
   "execution_count": null,
   "metadata": {
    "collapsed": false,
    "slideshow": {
     "slide_type": "subslide"
    }
   },
   "outputs": [],
   "source": [
    "# With specific dtypes\n",
    "df2.dtypes"
   ]
  },
  {
   "cell_type": "markdown",
   "metadata": {
    "slideshow": {
     "slide_type": "slide"
    }
   },
   "source": [
    "#### Viewing Data"
   ]
  },
  {
   "cell_type": "code",
   "execution_count": null,
   "metadata": {
    "collapsed": false,
    "slideshow": {
     "slide_type": "subslide"
    }
   },
   "outputs": [],
   "source": [
    "df"
   ]
  },
  {
   "cell_type": "code",
   "execution_count": null,
   "metadata": {
    "collapsed": false,
    "slideshow": {
     "slide_type": "fragment"
    }
   },
   "outputs": [],
   "source": [
    "df.head()\n"
   ]
  },
  {
   "cell_type": "code",
   "execution_count": null,
   "metadata": {
    "collapsed": false,
    "slideshow": {
     "slide_type": "fragment"
    }
   },
   "outputs": [],
   "source": [
    "df.tail(3)"
   ]
  },
  {
   "cell_type": "code",
   "execution_count": null,
   "metadata": {
    "collapsed": false,
    "slideshow": {
     "slide_type": "subslide"
    }
   },
   "outputs": [],
   "source": [
    "df.index"
   ]
  },
  {
   "cell_type": "code",
   "execution_count": null,
   "metadata": {
    "collapsed": false,
    "slideshow": {
     "slide_type": "subslide"
    }
   },
   "outputs": [],
   "source": [
    "df.describe()"
   ]
  },
  {
   "cell_type": "code",
   "execution_count": null,
   "metadata": {
    "collapsed": false
   },
   "outputs": [],
   "source": [
    "df"
   ]
  },
  {
   "cell_type": "code",
   "execution_count": null,
   "metadata": {
    "collapsed": false,
    "slideshow": {
     "slide_type": "subslide"
    }
   },
   "outputs": [],
   "source": [
    "z = df.sort_values(by=\"B\")\n",
    "z\n"
   ]
  },
  {
   "cell_type": "markdown",
   "metadata": {
    "slideshow": {
     "slide_type": "slide"
    }
   },
   "source": [
    "### Selection"
   ]
  },
  {
   "cell_type": "code",
   "execution_count": null,
   "metadata": {
    "collapsed": false,
    "slideshow": {
     "slide_type": "subslide"
    }
   },
   "outputs": [],
   "source": [
    "df[['A','B']]"
   ]
  },
  {
   "cell_type": "code",
   "execution_count": null,
   "metadata": {
    "collapsed": false,
    "slideshow": {
     "slide_type": "subslide"
    }
   },
   "outputs": [],
   "source": [
    "df[0:3]"
   ]
  },
  {
   "cell_type": "code",
   "execution_count": null,
   "metadata": {
    "collapsed": false,
    "slideshow": {
     "slide_type": "subslide"
    }
   },
   "outputs": [],
   "source": [
    "# By label\n",
    "df.loc[dates[0]]"
   ]
  },
  {
   "cell_type": "code",
   "execution_count": null,
   "metadata": {
    "collapsed": false,
    "slideshow": {
     "slide_type": "fragment"
    }
   },
   "outputs": [],
   "source": [
    "# multi-axis by label\n",
    "df.loc[:,['A','B']]"
   ]
  },
  {
   "cell_type": "code",
   "execution_count": null,
   "metadata": {
    "collapsed": false,
    "slideshow": {
     "slide_type": "fragment"
    }
   },
   "outputs": [],
   "source": [
    "# Date Range\n",
    "df.loc['20140102':'20140104',['B']]"
   ]
  },
  {
   "cell_type": "code",
   "execution_count": null,
   "metadata": {
    "collapsed": false,
    "slideshow": {
     "slide_type": "fragment"
    }
   },
   "outputs": [],
   "source": [
    "# Fast access to scalar\n",
    "df.at[dates[1],'B']"
   ]
  },
  {
   "cell_type": "markdown",
   "metadata": {},
   "source": [
    "### Operations"
   ]
  },
  {
   "cell_type": "code",
   "execution_count": null,
   "metadata": {
    "collapsed": false,
    "slideshow": {
     "slide_type": "subslide"
    }
   },
   "outputs": [],
   "source": [
    "df.describe()"
   ]
  },
  {
   "cell_type": "code",
   "execution_count": null,
   "metadata": {
    "collapsed": false,
    "slideshow": {
     "slide_type": "subslide"
    }
   },
   "outputs": [],
   "source": [
    "df.mean(),df.mean(1) # Operation on two different axes\n",
    "# there are pandas' methods for min, max etc. as well"
   ]
  },
  {
   "cell_type": "markdown",
   "metadata": {
    "slideshow": {
     "slide_type": "subslide"
    }
   },
   "source": [
    "### Boolean Indexing"
   ]
  },
  {
   "cell_type": "code",
   "execution_count": null,
   "metadata": {
    "collapsed": false
   },
   "outputs": [],
   "source": [
    "df"
   ]
  },
  {
   "cell_type": "code",
   "execution_count": null,
   "metadata": {
    "collapsed": false,
    "slideshow": {
     "slide_type": "fragment"
    }
   },
   "outputs": [],
   "source": [
    "df[df.A < 0] # Basically a 'where' operation"
   ]
  },
  {
   "cell_type": "code",
   "execution_count": null,
   "metadata": {
    "collapsed": false
   },
   "outputs": [],
   "source": [
    "df.A < 0"
   ]
  },
  {
   "cell_type": "code",
   "execution_count": null,
   "metadata": {
    "collapsed": false,
    "scrolled": true
   },
   "outputs": [],
   "source": [
    "# Two conditions added together\n",
    "df[(df.A < 0) & (df.B > .5) ]"
   ]
  },
  {
   "cell_type": "code",
   "execution_count": null,
   "metadata": {
    "collapsed": false,
    "scrolled": true
   },
   "outputs": [],
   "source": [
    "# Two conditions ORed together\n",
    "df[(df.A < -1) | (df.D > 0)]"
   ]
  },
  {
   "cell_type": "markdown",
   "metadata": {
    "slideshow": {
     "slide_type": "subslide"
    }
   },
   "source": [
    "### Merge"
   ]
  },
  {
   "cell_type": "code",
   "execution_count": null,
   "metadata": {
    "collapsed": false,
    "slideshow": {
     "slide_type": "subslide"
    }
   },
   "outputs": [],
   "source": [
    "np.random.randn(10,4)"
   ]
  },
  {
   "cell_type": "code",
   "execution_count": null,
   "metadata": {
    "collapsed": false,
    "scrolled": true,
    "slideshow": {
     "slide_type": "subslide"
    }
   },
   "outputs": [],
   "source": [
    "##Concatenating pandas objects together\n",
    "# create a dataframe to use as an example\n",
    "df2 = pd.DataFrame(np.random.randn(10,4))\n",
    "df2"
   ]
  },
  {
   "cell_type": "code",
   "execution_count": null,
   "metadata": {
    "collapsed": false,
    "slideshow": {
     "slide_type": "subslide"
    }
   },
   "outputs": [],
   "source": [
    "# Break it into pieces\n",
    "pieces = [df2[:3], df2[3:7],df2[7:]]\n",
    "pieces"
   ]
  },
  {
   "cell_type": "code",
   "execution_count": null,
   "metadata": {
    "collapsed": false,
    "slideshow": {
     "slide_type": "fragment"
    }
   },
   "outputs": [],
   "source": [
    "pd.concat(pieces)"
   ]
  },
  {
   "cell_type": "code",
   "execution_count": null,
   "metadata": {
    "collapsed": false,
    "slideshow": {
     "slide_type": "fragment"
    }
   },
   "outputs": [],
   "source": [
    "# Also can \"Join\" and \"Append\""
   ]
  },
  {
   "cell_type": "markdown",
   "metadata": {
    "slideshow": {
     "slide_type": "subslide"
    }
   },
   "source": [
    "### Setting"
   ]
  },
  {
   "cell_type": "code",
   "execution_count": null,
   "metadata": {
    "collapsed": false,
    "slideshow": {
     "slide_type": "fragment"
    }
   },
   "outputs": [],
   "source": [
    "df_posA = df.copy() # Without \"copy\" it would act on the dataset\n",
    "\n",
    "df_posA[df_posA.A < 0] = -1*df_posA"
   ]
  },
  {
   "cell_type": "code",
   "execution_count": null,
   "metadata": {
    "collapsed": false,
    "slideshow": {
     "slide_type": "fragment"
    }
   },
   "outputs": [],
   "source": [
    "df_posA"
   ]
  },
  {
   "cell_type": "code",
   "execution_count": null,
   "metadata": {
    "collapsed": false,
    "slideshow": {
     "slide_type": "subslide"
    }
   },
   "outputs": [],
   "source": [
    "#Setting new column aligns data by index\n",
    "s1 = pd.Series([1,2,3,4,5,6],index=pd.date_range('20140102',periods=6))"
   ]
  },
  {
   "cell_type": "code",
   "execution_count": null,
   "metadata": {
    "collapsed": false,
    "slideshow": {
     "slide_type": "fragment"
    }
   },
   "outputs": [],
   "source": [
    "s1"
   ]
  },
  {
   "cell_type": "code",
   "execution_count": null,
   "metadata": {
    "collapsed": false,
    "slideshow": {
     "slide_type": "fragment"
    }
   },
   "outputs": [],
   "source": [
    "df['F'] = s1"
   ]
  },
  {
   "cell_type": "code",
   "execution_count": null,
   "metadata": {
    "collapsed": false,
    "slideshow": {
     "slide_type": "fragment"
    }
   },
   "outputs": [],
   "source": [
    "df"
   ]
  },
  {
   "cell_type": "markdown",
   "metadata": {
    "slideshow": {
     "slide_type": "slide"
    }
   },
   "source": [
    "### Missing Data"
   ]
  },
  {
   "cell_type": "code",
   "execution_count": null,
   "metadata": {
    "collapsed": false,
    "slideshow": {
     "slide_type": "subslide"
    }
   },
   "outputs": [],
   "source": [
    "# Add a column with missing data\n",
    "df1 = df.reindex(index=dates[0:4],columns=list(df.columns) + ['E'])"
   ]
  },
  {
   "cell_type": "code",
   "execution_count": null,
   "metadata": {
    "collapsed": false,
    "slideshow": {
     "slide_type": "subslide"
    }
   },
   "outputs": [],
   "source": [
    "df1.loc[dates[0]:dates[1],'E'] = 1"
   ]
  },
  {
   "cell_type": "code",
   "execution_count": null,
   "metadata": {
    "collapsed": false,
    "slideshow": {
     "slide_type": "fragment"
    }
   },
   "outputs": [],
   "source": [
    "df1"
   ]
  },
  {
   "cell_type": "code",
   "execution_count": null,
   "metadata": {
    "collapsed": false,
    "slideshow": {
     "slide_type": "subslide"
    }
   },
   "outputs": [],
   "source": [
    "# find where values are null\n",
    "pd.isnull(df1)"
   ]
  },
  {
   "cell_type": "markdown",
   "metadata": {
    "slideshow": {
     "slide_type": "slide"
    }
   },
   "source": [
    "### Applying functions"
   ]
  },
  {
   "cell_type": "code",
   "execution_count": null,
   "metadata": {
    "collapsed": false,
    "slideshow": {
     "slide_type": "subslide"
    }
   },
   "outputs": [],
   "source": [
    "df"
   ]
  },
  {
   "cell_type": "code",
   "execution_count": null,
   "metadata": {
    "collapsed": false,
    "slideshow": {
     "slide_type": "fragment"
    }
   },
   "outputs": [],
   "source": [
    "df.apply(np.cumsum)"
   ]
  },
  {
   "cell_type": "code",
   "execution_count": null,
   "metadata": {
    "collapsed": false,
    "slideshow": {
     "slide_type": "fragment"
    }
   },
   "outputs": [],
   "source": [
    "df.apply(lambda x: x.max() - x.min())"
   ]
  },
  {
   "cell_type": "code",
   "execution_count": null,
   "metadata": {
    "collapsed": false,
    "slideshow": {
     "slide_type": "subslide"
    }
   },
   "outputs": [],
   "source": [
    "# Built in string methods\n",
    "s = pd.Series(['A', 'B', 'C', 'Aaba', 'Baca', np.nan, 'CABA', 'dog', 'cat'])\n",
    "s.str.lower()"
   ]
  },
  {
   "cell_type": "markdown",
   "metadata": {
    "slideshow": {
     "slide_type": "subslide"
    }
   },
   "source": [
    "### Grouping\n"
   ]
  },
  {
   "cell_type": "code",
   "execution_count": null,
   "metadata": {
    "collapsed": false,
    "slideshow": {
     "slide_type": "subslide"
    }
   },
   "outputs": [],
   "source": [
    "df3 = pd.DataFrame({'A' : ['foo', 'bar', 'foo', 'bar',\n",
    "                       'foo', 'bar', 'foo', 'foo'],\n",
    "                       'B' : ['one', 'one', 'two', 'three',\n",
    "                             'two', 'two', 'one', 'three'],\n",
    "                       'C' : np.random.randn(8),\n",
    "                       'D' : np.random.randn(8)})"
   ]
  },
  {
   "cell_type": "code",
   "execution_count": null,
   "metadata": {
    "collapsed": false,
    "slideshow": {
     "slide_type": "fragment"
    }
   },
   "outputs": [],
   "source": [
    "df3"
   ]
  },
  {
   "cell_type": "code",
   "execution_count": null,
   "metadata": {
    "collapsed": false,
    "slideshow": {
     "slide_type": "fragment"
    }
   },
   "outputs": [],
   "source": [
    "df3.groupby(['A','B']).sum()"
   ]
  },
  {
   "cell_type": "markdown",
   "metadata": {
    "slideshow": {
     "slide_type": "subslide"
    }
   },
   "source": [
    "### Reshaping"
   ]
  },
  {
   "cell_type": "code",
   "execution_count": null,
   "metadata": {
    "collapsed": false,
    "slideshow": {
     "slide_type": "fragment"
    }
   },
   "outputs": [],
   "source": [
    "# You can also stack or unstack levels"
   ]
  },
  {
   "cell_type": "code",
   "execution_count": null,
   "metadata": {
    "collapsed": false,
    "slideshow": {
     "slide_type": "fragment"
    }
   },
   "outputs": [],
   "source": [
    "a = df3.groupby(['A','B']).sum()"
   ]
  },
  {
   "cell_type": "code",
   "execution_count": null,
   "metadata": {
    "collapsed": false,
    "slideshow": {
     "slide_type": "fragment"
    }
   },
   "outputs": [],
   "source": [
    "# Pivot Tables\n",
    "# pd.pivot_table(df3,values=['C','D'],rows=['A'],cols=['B'])"
   ]
  },
  {
   "cell_type": "markdown",
   "metadata": {
    "slideshow": {
     "slide_type": "subslide"
    }
   },
   "source": [
    "### Time Series\n"
   ]
  },
  {
   "cell_type": "code",
   "execution_count": null,
   "metadata": {
    "collapsed": false
   },
   "outputs": [],
   "source": [
    "import pandas as pd\n",
    "import numpy as np"
   ]
  },
  {
   "cell_type": "code",
   "execution_count": null,
   "metadata": {
    "collapsed": false,
    "slideshow": {
     "slide_type": "fragment"
    }
   },
   "outputs": [],
   "source": [
    "# 100 Seconds starting on January 1st\n",
    "rng = pd.date_range('1/1/2014', periods=100, freq='S')"
   ]
  },
  {
   "cell_type": "code",
   "execution_count": null,
   "metadata": {
    "collapsed": false,
    "slideshow": {
     "slide_type": "fragment"
    }
   },
   "outputs": [],
   "source": [
    "# Give each second a random value\n",
    "ts = pd.Series(np.random.randint(0, 500, len(rng)), index=rng)"
   ]
  },
  {
   "cell_type": "code",
   "execution_count": null,
   "metadata": {
    "collapsed": false,
    "slideshow": {
     "slide_type": "fragment"
    }
   },
   "outputs": [],
   "source": [
    "ts"
   ]
  },
  {
   "cell_type": "code",
   "execution_count": null,
   "metadata": {
    "collapsed": false,
    "slideshow": {
     "slide_type": "subslide"
    }
   },
   "outputs": [],
   "source": [
    "# Built in resampling\n",
    "ts.resample('1Min',how='mean') # Resample secondly to 1Minutely"
   ]
  },
  {
   "cell_type": "code",
   "execution_count": null,
   "metadata": {
    "collapsed": false,
    "slideshow": {
     "slide_type": "slide"
    }
   },
   "outputs": [],
   "source": [
    "# Many additional time series features\n",
    "# ts. #use tab"
   ]
  },
  {
   "cell_type": "markdown",
   "metadata": {
    "slideshow": {
     "slide_type": "slide"
    }
   },
   "source": [
    "### Plotting\n"
   ]
  },
  {
   "cell_type": "code",
   "execution_count": null,
   "metadata": {
    "collapsed": false,
    "slideshow": {
     "slide_type": "subslide"
    }
   },
   "outputs": [],
   "source": [
    "ts.plot()"
   ]
  },
  {
   "cell_type": "code",
   "execution_count": null,
   "metadata": {
    "collapsed": false,
    "slideshow": {
     "slide_type": "subslide"
    }
   },
   "outputs": [],
   "source": [
    "def randwalk(startdate,points):\n",
    "    ts = pd.Series(np.random.randn(points), index=pd.date_range(startdate, periods=points))\n",
    "    ts=ts.cumsum()\n",
    "    ts.plot()\n",
    "    return(ts)"
   ]
  },
  {
   "cell_type": "code",
   "execution_count": null,
   "metadata": {
    "collapsed": false,
    "slideshow": {
     "slide_type": "fragment"
    }
   },
   "outputs": [],
   "source": [
    "# Using pandas to make a simple random walker by repeatedly running:\n",
    "a=randwalk('1/1/2012',1000)"
   ]
  },
  {
   "cell_type": "code",
   "execution_count": null,
   "metadata": {
    "collapsed": false,
    "slideshow": {
     "slide_type": "subslide"
    }
   },
   "outputs": [],
   "source": [
    "# Pandas plot function will print with labels as default"
   ]
  },
  {
   "cell_type": "code",
   "execution_count": null,
   "metadata": {
    "collapsed": false,
    "slideshow": {
     "slide_type": "fragment"
    }
   },
   "outputs": [],
   "source": [
    "df = pd.DataFrame(np.random.randn(100, 4), index=ts.index,columns=['A', 'B', 'C', 'D'])\n",
    "df = df.cumsum()\n",
    "plt.figure();df.plot();plt.legend(loc='best') #"
   ]
  },
  {
   "cell_type": "markdown",
   "metadata": {
    "slideshow": {
     "slide_type": "subslide"
    }
   },
   "source": [
    "### I/O\n",
    "I/O is straightforward with, for example, pd.read_csv or df.to_csv"
   ]
  },
  {
   "cell_type": "markdown",
   "metadata": {
    "slideshow": {
     "slide_type": "slide"
    }
   },
   "source": [
    "# Next Steps\n",
    "\n",
    "**Recommended Resources**\n",
    "\n",
    "Name | Description\n",
    "--- | ---\n",
    "[Official Pandas Tutorials](http://pandas.pydata.org/pandas-docs/stable/tutorials.html) | Wes & Company's selection of tutorials and lectures\n",
    "[Julia Evans Pandas Cookbook](https://github.com/jvns/pandas-cookbook) | Great resource with examples from weather, bikes and 311 calls\n",
    "[Learn Pandas Tutorials](https://bitbucket.org/hrojas/learn-pandas) | A great series of Pandas tutorials from Dave Rojas\n",
    "[Research Computing Python Data PYNBs](https://github.com/ResearchComputing/Meetup-Fall-2013/tree/master/python) | A super awesome set of python notebooks from a meetup-based course exclusively devoted to pandas"
   ]
  }
 ],
 "metadata": {
  "anaconda-cloud": {},
  "kernelspec": {
   "display_name": "Python [default]",
   "language": "python",
   "name": "python2"
  },
  "language_info": {
   "codemirror_mode": {
    "name": "ipython",
    "version": 2
   },
   "file_extension": ".py",
   "mimetype": "text/x-python",
   "name": "python",
   "nbconvert_exporter": "python",
   "pygments_lexer": "ipython2",
   "version": "2.7.12"
  }
 },
 "nbformat": 4,
 "nbformat_minor": 0
}
